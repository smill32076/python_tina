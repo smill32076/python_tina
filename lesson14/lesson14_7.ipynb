{
 "cells": [
  {
   "cell_type": "code",
   "execution_count": 1,
   "id": "7abcbf41",
   "metadata": {},
   "outputs": [
    {
     "name": "stdout",
     "output_type": "stream",
     "text": [
      "2\n",
      "(2, 3)\n",
      "6\n",
      "int64\n"
     ]
    }
   ],
   "source": [
    "import numpy as np\n",
    "n1 = np.array([[1,2,3],[2,3,4]])\n",
    "\n",
    "print(n1.ndim) #維度\n",
    "print(n1.shape) #形狀\n",
    "print(n1.size) #總元素數量\n",
    "print(n1.dtype) #型別"
   ]
  },
  {
   "cell_type": "code",
   "execution_count": 2,
   "id": "40841a92",
   "metadata": {},
   "outputs": [
    {
     "name": "stdout",
     "output_type": "stream",
     "text": [
      "3\n",
      "(2, 2, 3)\n",
      "12\n",
      "int64\n"
     ]
    }
   ],
   "source": [
    "import numpy as np\n",
    "n2 = np.array([[[1,2,3],[2,3,4]],[[3,4,5],[5,6,7]] ])\n",
    "\n",
    "print(n2.ndim) #維度\n",
    "print(n2.shape) #形狀\n",
    "print(n2.size) #總元素數量\n",
    "print(n2.dtype) #型別"
   ]
  }
 ],
 "metadata": {
  "kernelspec": {
   "display_name": "base",
   "language": "python",
   "name": "python3"
  },
  "language_info": {
   "codemirror_mode": {
    "name": "ipython",
    "version": 3
   },
   "file_extension": ".py",
   "mimetype": "text/x-python",
   "name": "python",
   "nbconvert_exporter": "python",
   "pygments_lexer": "ipython3",
   "version": "3.12.7"
  }
 },
 "nbformat": 4,
 "nbformat_minor": 5
}
