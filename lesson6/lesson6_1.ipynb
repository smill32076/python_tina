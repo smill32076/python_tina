{
 "cells": [
  {
   "cell_type": "markdown",
   "id": "a7d41ebb",
   "metadata": {},
   "source": [
    "### for _ in _"
   ]
  },
  {
   "cell_type": "code",
   "execution_count": 1,
   "id": "574607e5",
   "metadata": {},
   "outputs": [
    {
     "name": "stdout",
     "output_type": "stream",
     "text": [
      "2\n",
      "4\n",
      "6\n",
      "8\n",
      "10\n"
     ]
    }
   ],
   "source": [
    "#tuple 是串列資料\n",
    "for i in (2,4,6,8,10):\n",
    "    print(i)"
   ]
  },
  {
   "cell_type": "code",
   "execution_count": 3,
   "id": "f0525272",
   "metadata": {},
   "outputs": [
    {
     "name": "stdout",
     "output_type": "stream",
     "text": [
      "1\n",
      "3\n",
      "5\n",
      "7\n",
      "9\n"
     ]
    }
   ],
   "source": [
    "#list 是串列資料\n",
    "for i in [1,3,5,7,9]:\n",
    "    print(i)"
   ]
  },
  {
   "cell_type": "markdown",
   "id": "5b890f72",
   "metadata": {},
   "source": [
    "### 巢狀迴圈"
   ]
  },
  {
   "cell_type": "code",
   "execution_count": 10,
   "id": "8afdee46",
   "metadata": {},
   "outputs": [
    {
     "name": "stdout",
     "output_type": "stream",
     "text": [
      "i=1\n",
      "j=1 j=2 j=3 j=4 j=5 j=6 j=7 j=8 j=9 \n",
      "i=2\n",
      "j=1 j=2 j=3 j=4 j=5 j=6 j=7 j=8 j=9 \n",
      "i=3\n",
      "j=1 j=2 j=3 j=4 j=5 j=6 j=7 j=8 j=9 \n",
      "i=4\n",
      "j=1 j=2 j=3 j=4 j=5 j=6 j=7 j=8 j=9 \n",
      "i=5\n",
      "j=1 j=2 j=3 j=4 j=5 j=6 j=7 j=8 j=9 \n",
      "i=6\n",
      "j=1 j=2 j=3 j=4 j=5 j=6 j=7 j=8 j=9 \n",
      "i=7\n",
      "j=1 j=2 j=3 j=4 j=5 j=6 j=7 j=8 j=9 \n",
      "i=8\n",
      "j=1 j=2 j=3 j=4 j=5 j=6 j=7 j=8 j=9 \n",
      "i=9\n",
      "j=1 j=2 j=3 j=4 j=5 j=6 j=7 j=8 j=9 \n"
     ]
    }
   ],
   "source": [
    "for i in range(1,10):\n",
    "    print(f'i={i}')\n",
    "    for j in range(1,10):\n",
    "        print(f\"j={j}\",end=' ')\n",
    "    print()"
   ]
  },
  {
   "cell_type": "code",
   "execution_count": 9,
   "id": "4159f422",
   "metadata": {},
   "outputs": [
    {
     "name": "stdout",
     "output_type": "stream",
     "text": [
      "i=1\n",
      "1 * 1 = 1  1 * 2 = 2  1 * 3 = 3  1 * 4 = 4  1 * 5 = 5  1 * 6 = 6  1 * 7 = 7  1 * 8 = 8  1 * 9 = 9  \n",
      "i=2\n",
      "2 * 1 = 2  2 * 2 = 4  2 * 3 = 6  2 * 4 = 8  2 * 5 =10  2 * 6 =12  2 * 7 =14  2 * 8 =16  2 * 9 =18  \n",
      "i=3\n",
      "3 * 1 = 3  3 * 2 = 6  3 * 3 = 9  3 * 4 =12  3 * 5 =15  3 * 6 =18  3 * 7 =21  3 * 8 =24  3 * 9 =27  \n",
      "i=4\n",
      "4 * 1 = 4  4 * 2 = 8  4 * 3 =12  4 * 4 =16  4 * 5 =20  4 * 6 =24  4 * 7 =28  4 * 8 =32  4 * 9 =36  \n",
      "i=5\n",
      "5 * 1 = 5  5 * 2 =10  5 * 3 =15  5 * 4 =20  5 * 5 =25  5 * 6 =30  5 * 7 =35  5 * 8 =40  5 * 9 =45  \n",
      "i=6\n",
      "6 * 1 = 6  6 * 2 =12  6 * 3 =18  6 * 4 =24  6 * 5 =30  6 * 6 =36  6 * 7 =42  6 * 8 =48  6 * 9 =54  \n",
      "i=7\n",
      "7 * 1 = 7  7 * 2 =14  7 * 3 =21  7 * 4 =28  7 * 5 =35  7 * 6 =42  7 * 7 =49  7 * 8 =56  7 * 9 =63  \n",
      "i=8\n",
      "8 * 1 = 8  8 * 2 =16  8 * 3 =24  8 * 4 =32  8 * 5 =40  8 * 6 =48  8 * 7 =56  8 * 8 =64  8 * 9 =72  \n",
      "i=9\n",
      "9 * 1 = 9  9 * 2 =18  9 * 3 =27  9 * 4 =36  9 * 5 =45  9 * 6 =54  9 * 7 =63  9 * 8 =72  9 * 9 =81  \n"
     ]
    }
   ],
   "source": [
    "for i in range(1,10):\n",
    "    print(f\"i={i}\")\n",
    "    for j in range(1,10):\n",
    "        print(f\"{i:<2d}*{j:2d} ={i*j:2d}\",end='  ')\n",
    "    print()"
   ]
  },
  {
   "cell_type": "markdown",
   "id": "9badbff8",
   "metadata": {},
   "source": [
    "### 迴圈可以判斷和整合"
   ]
  },
  {
   "cell_type": "code",
   "execution_count": 13,
   "id": "70ed479b",
   "metadata": {},
   "outputs": [
    {
     "name": "stdout",
     "output_type": "stream",
     "text": [
      "48的因數有:1 2 3 4 6 8 12 16 24 48 "
     ]
    }
   ],
   "source": [
    "num= int(input(\"請輸入整數,求所有因數\"))\n",
    "print(f\"{num}的因數有:\",end=\"\")\n",
    "for i in range (1,num+1):\n",
    "    if num % i ==0:\n",
    "        print(i,end=\" \")"
   ]
  },
  {
   "cell_type": "markdown",
   "id": "4bafaebe",
   "metadata": {},
   "source": [
    "### 作業\n",
    "### 題目：求公因數\n",
    "- print(\"請輸入2數,求2數公因數:\")\n",
    "- n = int(input('請輸入第1個數:'))\n",
    "- m = int(input('請輸入第2個數:'))\n",
    "\n",
    "提示：python內建的function->min()    function是函數的意思"
   ]
  },
  {
   "cell_type": "code",
   "execution_count": 7,
   "id": "1e5d5522",
   "metadata": {},
   "outputs": [
    {
     "name": "stdout",
     "output_type": "stream",
     "text": [
      "請輸入二數，求二數公因數:\n",
      "4的因數有:1 2 4 \n",
      "60的因數有:1 2 3 4 5 6 10 12 15 20 30 60 \n",
      "4和60的公因數有:1 2 4 "
     ]
    }
   ],
   "source": [
    "#輸入數值\n",
    "print(\"請輸入二數，求二數公因數:\")\n",
    "n=int(input(\"請輸入第一個數:\"))\n",
    "m=int(input(\"請輸入第二個數:\"))\n",
    "#求公因數\n",
    "print(f\"{n}的因數有:\",end=\"\")\n",
    "for i in range(1,n+1):\n",
    "    if n % i ==0:\n",
    "        print(i,end=\" \")\n",
    "print()\n",
    "\n",
    "print(f\"{m}的因數有:\",end=\"\")\n",
    "for j in range(1,m+1):\n",
    "    if m % j ==0:\n",
    "        print(j,end=\" \")\n",
    "print()\n",
    "\n",
    "print(f\"{n}和{m}的公因數有:\",end=\"\")\n",
    "for k in range(1,min(n,m)+1):\n",
    "    if n % k ==0 and m % k ==0:\n",
    "        print(k,end=\" \")\n",
    "\n"
   ]
  }
 ],
 "metadata": {
  "kernelspec": {
   "display_name": "base",
   "language": "python",
   "name": "python3"
  },
  "language_info": {
   "codemirror_mode": {
    "name": "ipython",
    "version": 3
   },
   "file_extension": ".py",
   "mimetype": "text/x-python",
   "name": "python",
   "nbconvert_exporter": "python",
   "pygments_lexer": "ipython3",
   "version": "3.12.7"
  }
 },
 "nbformat": 4,
 "nbformat_minor": 5
}
