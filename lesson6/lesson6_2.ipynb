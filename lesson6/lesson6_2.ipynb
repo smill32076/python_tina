{
 "cells": [
  {
   "cell_type": "markdown",
   "id": "89dc837f",
   "metadata": {},
   "source": [
    "### 不知道執行幾次，使用 while\n",
    "- step1: 建立變數\n",
    "- step2: 比較變數\n",
    "- step3: 改變變數值"
   ]
  },
  {
   "cell_type": "code",
   "execution_count": null,
   "id": "30bafa62",
   "metadata": {},
   "outputs": [
    {
     "name": "stdout",
     "output_type": "stream",
     "text": [
      "恭喜!! 已經存夠了,存了6月,共存了64011元\n"
     ]
    }
   ],
   "source": [
    "#小明想要存錢買一輛機車,機車每輛30000元，他將每月存的錢輸入，當存款足夠買機車時，就顯示提示訊息告知。\n",
    "#你不知道要存幾個月\n",
    "#必需找到被比較的變數\n",
    "deposit = 0\n",
    "month = 0\n",
    "while (deposit<30000):\n",
    "    month += 1\n",
    "    input_money = int(input(f\"請輸入第{month}月份的存款:\"))\n",
    "    deposit += input_money\n",
    "\n",
    "print(f\"恭喜!! 已經存夠了,存了{month}月,共存了{deposit}元\")"
   ]
  },
  {
   "cell_type": "code",
   "execution_count": 6,
   "id": "99590027",
   "metadata": {},
   "outputs": [
    {
     "name": "stdout",
     "output_type": "stream",
     "text": [
      "恭喜!! 已經存夠了,存了5月,共存了526000元\n"
     ]
    }
   ],
   "source": [
    "#小明想要存錢買一輛機車,機車每輛30000元，他將每月存的錢輸入，當存款足夠買機車時，就顯示提示訊息告知。\n",
    "#你不知道要存幾個月\n",
    "#必需找到被比較的變數\n",
    "deposit = 0\n",
    "month = 0\n",
    "while (True): #True 無限迴圈\n",
    "    month += 1\n",
    "    input_money = int(input(f\"請輸入第{month}月份的存款:\"))\n",
    "    deposit += input_money\n",
    "    if(deposit>=30000):\n",
    "        break\n",
    "\n",
    "print(f\"恭喜!! 已經存夠了,存了{month}月,共存了{deposit}元\")"
   ]
  },
  {
   "cell_type": "markdown",
   "id": "76c59590",
   "metadata": {},
   "source": [
    "- 奇數輸出平方\n",
    "- 偶數不做任何動作\n",
    "- \"q\" 要離開"
   ]
  },
  {
   "cell_type": "code",
   "execution_count": 24,
   "id": "72688783",
   "metadata": {},
   "outputs": [
    {
     "name": "stdout",
     "output_type": "stream",
     "text": [
      "輸入錯誤，請重新輸入\n",
      "7的平方是49\n",
      "7的平方是49\n",
      "45的平方是2025\n",
      "25的平方是625\n",
      "程式結束\n"
     ]
    }
   ],
   "source": [
    "while(True):\n",
    "    value=input(\"請輸入整數,輸入[q]離開:\") #因為這裡還會輸入q離開，所以不能用f\n",
    "    if value==\"q\":\n",
    "        break\n",
    "    try:\n",
    "        value = int(value)\n",
    "    except:\n",
    "        print(\"輸入錯誤，請重新輸入\")\n",
    "        continue\n",
    "    if (value %2 ==1):\n",
    "        print(f\"{value}的平方是{value**2}\")\n",
    "   # else:\n",
    "        #continue # 這裡可不寫，因為本來就會跳回去第一個程序直到跳出\n",
    "print(\"程式結束\")"
   ]
  },
  {
   "cell_type": "markdown",
   "id": "04b392b4",
   "metadata": {},
   "source": [
    "### 建立亂數"
   ]
  },
  {
   "cell_type": "code",
   "execution_count": 23,
   "id": "d82d0081",
   "metadata": {},
   "outputs": [
    {
     "data": {
      "text/plain": [
       "47"
      ]
     },
     "execution_count": 23,
     "metadata": {},
     "output_type": "execute_result"
    }
   ],
   "source": [
    "import random\n",
    "rand_num = random.randint(1,100)\n",
    "rand_num"
   ]
  },
  {
   "cell_type": "markdown",
   "id": "dc8a51bd",
   "metadata": {},
   "source": [
    "### 猜數字"
   ]
  },
  {
   "cell_type": "code",
   "execution_count": 32,
   "id": "7928c55f",
   "metadata": {},
   "outputs": [
    {
     "name": "stdout",
     "output_type": "stream",
     "text": [
      "===============這是一個猜數字遊戲===========\n",
      "\n",
      "\n",
      "44\n",
      "再大一點\n",
      "您已經猜了1次\n",
      "再大一點\n",
      "您已經猜了2次\n",
      "再小一點\n",
      "您已經猜了3次\n",
      "再小一點\n",
      "您已經猜了4次\n",
      "再小一點\n",
      "您已經猜了5次\n",
      "再大一點\n",
      "您已經猜了6次\n",
      "再小一點\n",
      "您已經猜了7次\n",
      "再小一點\n",
      "您已經猜了8次\n",
      "賓果! 猜對了，答案是: 44\n",
      "您猜了9次\n",
      "猜數字遊戲結束\n"
     ]
    }
   ],
   "source": [
    "import random\n",
    "min = 1\n",
    "max = 99\n",
    "count = 0\n",
    "target= random. randint(min,max)\n",
    "print(\"===============這是一個猜數字遊戲===========\\n\\n\")\n",
    "print(target)\n",
    "while(True):\n",
    "    keyin=int(input(f\"猜數字的範圍{min}~{max}\"))\n",
    "    count += 1\n",
    "    if(keyin >= min and keyin<= max ):\n",
    "        if (keyin == target):\n",
    "            print(f\"賓果! 猜對了，答案是: {target}\")\n",
    "            print(f\"您猜了{count}次\")\n",
    "            break\n",
    "        elif keyin < target:\n",
    "            print(\"再大一點\")\n",
    "            min =keyin + 1\n",
    "            \n",
    "        elif keyin > target:\n",
    "            print(\"再小一點\")\n",
    "            max = keyin-1\n",
    "        print(f\"您已經猜了{count}次\")\n",
    "    else:\n",
    "        print(\"請輸入提示範圍內的數字\")\n",
    "\n",
    "print(f\"猜數字遊戲結束\")\n"
   ]
  }
 ],
 "metadata": {
  "kernelspec": {
   "display_name": "base",
   "language": "python",
   "name": "python3"
  },
  "language_info": {
   "codemirror_mode": {
    "name": "ipython",
    "version": 3
   },
   "file_extension": ".py",
   "mimetype": "text/x-python",
   "name": "python",
   "nbconvert_exporter": "python",
   "pygments_lexer": "ipython3",
   "version": "3.12.7"
  }
 },
 "nbformat": 4,
 "nbformat_minor": 5
}
