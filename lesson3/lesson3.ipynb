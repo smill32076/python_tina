{
 "cells": [
  {
   "cell_type": "markdown",
   "id": "c6e7544d",
   "metadata": {},
   "source": [
    "### 這是第三堂課的內容"
   ]
  },
  {
   "cell_type": "code",
   "execution_count": 3,
   "id": "a5543664",
   "metadata": {},
   "outputs": [
    {
     "name": "stdout",
     "output_type": "stream",
     "text": [
      "矩形的寬是:345.8 高是:100 面積是:34580.0\n"
     ]
    }
   ],
   "source": [
    "width=345.8\n",
    "height=100\n",
    "type(width)\n",
    "type(height)\n",
    "area=width*height\n",
    "type(area)\n",
    "print(f\"矩形的寬是:{width} 高是:{height} 面積是:{round(area,ndigits=2)}\")"
   ]
  }
 ],
 "metadata": {
  "kernelspec": {
   "display_name": "base",
   "language": "python",
   "name": "python3"
  },
  "language_info": {
   "codemirror_mode": {
    "name": "ipython",
    "version": 3
   },
   "file_extension": ".py",
   "mimetype": "text/x-python",
   "name": "python",
   "nbconvert_exporter": "python",
   "pygments_lexer": "ipython3",
   "version": "3.12.7"
  }
 },
 "nbformat": 4,
 "nbformat_minor": 5
}
