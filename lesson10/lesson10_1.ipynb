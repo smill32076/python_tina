{
 "cells": [
  {
   "cell_type": "markdown",
   "id": "6b48ee5e",
   "metadata": {},
   "source": [
    "### 如何python取得目前專案內的names.txt的絕對位置\n",
    "- 請使用繁體中文回覆\n",
    "\n",
    "### 範例一\n",
    "```\n",
    "import os\n",
    "\n",
    "# 取得目前執行的 Python 檔案所在的目錄（專案根目錄）\n",
    "current_dir = os.path.dirname(os.path.abspath(__file__))\n",
    "\n",
    "# 拼接出 names.txt 的絕對路徑\n",
    "file_path = os.path.join(current_dir, 'names.txt')\n",
    "\n",
    "print(file_path)\n",
    "```\n",
    "\n",
    "### 範例二\n",
    "```\n",
    "from pathlib import Path\n",
    "\n",
    "# 取得目前執行的 Python 檔案所在的目錄（專案根目錄）\n",
    "current_dir = Path(__file__).parent\n",
    "\n",
    "# 拼接出 names.txt 的絕對路徑\n",
    "file_path = current_dir / 'names.txt'\n",
    "\n",
    "print(file_path.resolve())\n",
    "```"
   ]
  },
  {
   "cell_type": "code",
   "execution_count": null,
   "id": "b6e8425d",
   "metadata": {},
   "outputs": [],
   "source": [
    "vars() #內建查詢代碼"
   ]
  },
  {
   "cell_type": "code",
   "execution_count": 5,
   "id": "a330923d",
   "metadata": {},
   "outputs": [
    {
     "data": {
      "text/plain": [
       "'/workspaces/python_tina/lesson10/names.txt'"
      ]
     },
     "execution_count": 5,
     "metadata": {},
     "output_type": "execute_result"
    }
   ],
   "source": [
    "import os\n",
    "file_name:str = \"names.txt\"\n",
    "abs_path = os.path.abspath(file_name)\n",
    "abs_path"
   ]
  },
  {
   "cell_type": "markdown",
   "id": "01c7dc4d",
   "metadata": {},
   "source": [
    "### python如何讀取names.txt\n",
    "- 請示用繁體中文回覆\n",
    "\n",
    "\n",
    "## 1. 使用 open() 讀取檔案\n",
    "\n",
    "```python\n",
    "# 開啟 names.txt 並讀取所有內容\n",
    "with open('names.txt', 'r', encoding='utf-8') as file:\n",
    "    content = file.read()\n",
    "    print(content)\n",
    "```\n",
    "\n",
    "## 2. 一行一行讀取\n",
    "\n",
    "```python\n",
    "# 一次讀取一行\n",
    "with open('names.txt', 'r', encoding='utf-8') as file:\n",
    "    for line in file:\n",
    "        print(line.strip())  # 使用 strip() 去除換行符號\n",
    "```\n",
    "\n",
    "## 3. 讀取成列表\n",
    "\n",
    "```python\n",
    "# 將所有行存為列表\n",
    "with open('names.txt', 'r', encoding='utf-8') as file:\n",
    "    lines = file.readlines()\n",
    "    print(lines)\n",
    "```\n",
    "\n",
    "## 注意事項\n",
    "\n",
    "- 若檔案不是 UTF-8 編碼，請將 encoding 參數改為正確的編碼格式（如 'big5'）。\n",
    "- 請確認 names.txt 檔案與你的 Python 程式在同一目錄下，或提供完整路徑。\n",
    "\n",
    "\n",
    "---\n"
   ]
  },
  {
   "cell_type": "code",
   "execution_count": 7,
   "id": "cbdda41c",
   "metadata": {},
   "outputs": [
    {
     "data": {
      "text/plain": [
       "'陳怡伶'"
      ]
     },
     "metadata": {},
     "output_type": "display_data"
    },
    {
     "data": {
      "text/plain": [
       "'馮芳如'"
      ]
     },
     "metadata": {},
     "output_type": "display_data"
    },
    {
     "data": {
      "text/plain": [
       "'蒙淑惠'"
      ]
     },
     "metadata": {},
     "output_type": "display_data"
    },
    {
     "data": {
      "text/plain": [
       "'張軒宸'"
      ]
     },
     "metadata": {},
     "output_type": "display_data"
    },
    {
     "data": {
      "text/plain": [
       "'陳向愛'"
      ]
     },
     "metadata": {},
     "output_type": "display_data"
    },
    {
     "data": {
      "text/plain": [
       "'賴心怡'"
      ]
     },
     "metadata": {},
     "output_type": "display_data"
    },
    {
     "data": {
      "text/plain": [
       "'王怡珊'"
      ]
     },
     "metadata": {},
     "output_type": "display_data"
    },
    {
     "data": {
      "text/plain": [
       "'林詠斌'"
      ]
     },
     "metadata": {},
     "output_type": "display_data"
    },
    {
     "data": {
      "text/plain": [
       "'陳淑娟'"
      ]
     },
     "metadata": {},
     "output_type": "display_data"
    },
    {
     "data": {
      "text/plain": [
       "'崔孝憲'"
      ]
     },
     "metadata": {},
     "output_type": "display_data"
    },
    {
     "data": {
      "text/plain": [
       "'林希啟'"
      ]
     },
     "metadata": {},
     "output_type": "display_data"
    },
    {
     "data": {
      "text/plain": [
       "'楊韋廷'"
      ]
     },
     "metadata": {},
     "output_type": "display_data"
    },
    {
     "data": {
      "text/plain": [
       "'陳文賢'"
      ]
     },
     "metadata": {},
     "output_type": "display_data"
    },
    {
     "data": {
      "text/plain": [
       "'王士銘'"
      ]
     },
     "metadata": {},
     "output_type": "display_data"
    },
    {
     "data": {
      "text/plain": [
       "'賴昌韻'"
      ]
     },
     "metadata": {},
     "output_type": "display_data"
    },
    {
     "data": {
      "text/plain": [
       "'黃名明'"
      ]
     },
     "metadata": {},
     "output_type": "display_data"
    },
    {
     "data": {
      "text/plain": [
       "'吳麗卿'"
      ]
     },
     "metadata": {},
     "output_type": "display_data"
    },
    {
     "data": {
      "text/plain": [
       "'游治旺'"
      ]
     },
     "metadata": {},
     "output_type": "display_data"
    },
    {
     "data": {
      "text/plain": [
       "'蔡嘉音'"
      ]
     },
     "metadata": {},
     "output_type": "display_data"
    },
    {
     "data": {
      "text/plain": [
       "'黃靜怡'"
      ]
     },
     "metadata": {},
     "output_type": "display_data"
    },
    {
     "data": {
      "text/plain": [
       "'黃淑芬'"
      ]
     },
     "metadata": {},
     "output_type": "display_data"
    },
    {
     "data": {
      "text/plain": [
       "'龔姵君'"
      ]
     },
     "metadata": {},
     "output_type": "display_data"
    },
    {
     "data": {
      "text/plain": [
       "'景歡燦'"
      ]
     },
     "metadata": {},
     "output_type": "display_data"
    },
    {
     "data": {
      "text/plain": [
       "'李政成'"
      ]
     },
     "metadata": {},
     "output_type": "display_data"
    },
    {
     "data": {
      "text/plain": [
       "'楊綺芬'"
      ]
     },
     "metadata": {},
     "output_type": "display_data"
    },
    {
     "data": {
      "text/plain": [
       "'昌嘉洋'"
      ]
     },
     "metadata": {},
     "output_type": "display_data"
    },
    {
     "data": {
      "text/plain": [
       "'李慈啟'"
      ]
     },
     "metadata": {},
     "output_type": "display_data"
    },
    {
     "data": {
      "text/plain": [
       "'游倫城'"
      ]
     },
     "metadata": {},
     "output_type": "display_data"
    },
    {
     "data": {
      "text/plain": [
       "'林淑安'"
      ]
     },
     "metadata": {},
     "output_type": "display_data"
    },
    {
     "data": {
      "text/plain": [
       "'蔡士賢'"
      ]
     },
     "metadata": {},
     "output_type": "display_data"
    },
    {
     "data": {
      "text/plain": [
       "'林世城'"
      ]
     },
     "metadata": {},
     "output_type": "display_data"
    },
    {
     "data": {
      "text/plain": [
       "'林佳蓉'"
      ]
     },
     "metadata": {},
     "output_type": "display_data"
    },
    {
     "data": {
      "text/plain": [
       "'柯宜臻'"
      ]
     },
     "metadata": {},
     "output_type": "display_data"
    },
    {
     "data": {
      "text/plain": [
       "'傅佳琳'"
      ]
     },
     "metadata": {},
     "output_type": "display_data"
    },
    {
     "data": {
      "text/plain": [
       "'林瑞喬'"
      ]
     },
     "metadata": {},
     "output_type": "display_data"
    },
    {
     "data": {
      "text/plain": [
       "'林佳慧'"
      ]
     },
     "metadata": {},
     "output_type": "display_data"
    },
    {
     "data": {
      "text/plain": [
       "'鍾俞禎'"
      ]
     },
     "metadata": {},
     "output_type": "display_data"
    },
    {
     "data": {
      "text/plain": [
       "'劉慧君'"
      ]
     },
     "metadata": {},
     "output_type": "display_data"
    },
    {
     "data": {
      "text/plain": [
       "'劉林中'"
      ]
     },
     "metadata": {},
     "output_type": "display_data"
    },
    {
     "data": {
      "text/plain": [
       "'林怡偉'"
      ]
     },
     "metadata": {},
     "output_type": "display_data"
    },
    {
     "data": {
      "text/plain": [
       "'余丞苓'"
      ]
     },
     "metadata": {},
     "output_type": "display_data"
    },
    {
     "data": {
      "text/plain": [
       "'黃佩玲'"
      ]
     },
     "metadata": {},
     "output_type": "display_data"
    },
    {
     "data": {
      "text/plain": [
       "'林建宏'"
      ]
     },
     "metadata": {},
     "output_type": "display_data"
    },
    {
     "data": {
      "text/plain": [
       "'方雅慧'"
      ]
     },
     "metadata": {},
     "output_type": "display_data"
    },
    {
     "data": {
      "text/plain": [
       "'林柏洋'"
      ]
     },
     "metadata": {},
     "output_type": "display_data"
    },
    {
     "data": {
      "text/plain": [
       "'郭舜昇'"
      ]
     },
     "metadata": {},
     "output_type": "display_data"
    },
    {
     "data": {
      "text/plain": [
       "'艾巧夫'"
      ]
     },
     "metadata": {},
     "output_type": "display_data"
    },
    {
     "data": {
      "text/plain": [
       "'童建霖'"
      ]
     },
     "metadata": {},
     "output_type": "display_data"
    },
    {
     "data": {
      "text/plain": [
       "'蔡至剛'"
      ]
     },
     "metadata": {},
     "output_type": "display_data"
    },
    {
     "data": {
      "text/plain": [
       "'黃心航'"
      ]
     },
     "metadata": {},
     "output_type": "display_data"
    },
    {
     "data": {
      "text/plain": [
       "'張凡成'"
      ]
     },
     "metadata": {},
     "output_type": "display_data"
    },
    {
     "data": {
      "text/plain": [
       "'郭淑枝'"
      ]
     },
     "metadata": {},
     "output_type": "display_data"
    },
    {
     "data": {
      "text/plain": [
       "'黃必琪'"
      ]
     },
     "metadata": {},
     "output_type": "display_data"
    },
    {
     "data": {
      "text/plain": [
       "'楊健麟'"
      ]
     },
     "metadata": {},
     "output_type": "display_data"
    },
    {
     "data": {
      "text/plain": [
       "'林建勳'"
      ]
     },
     "metadata": {},
     "output_type": "display_data"
    },
    {
     "data": {
      "text/plain": [
       "'鄭琇亞'"
      ]
     },
     "metadata": {},
     "output_type": "display_data"
    },
    {
     "data": {
      "text/plain": [
       "'王雅琴'"
      ]
     },
     "metadata": {},
     "output_type": "display_data"
    },
    {
     "data": {
      "text/plain": [
       "'李美洋'"
      ]
     },
     "metadata": {},
     "output_type": "display_data"
    },
    {
     "data": {
      "text/plain": [
       "'楊少亮'"
      ]
     },
     "metadata": {},
     "output_type": "display_data"
    },
    {
     "data": {
      "text/plain": [
       "'王泓泰'"
      ]
     },
     "metadata": {},
     "output_type": "display_data"
    },
    {
     "data": {
      "text/plain": [
       "'黃江旭'"
      ]
     },
     "metadata": {},
     "output_type": "display_data"
    },
    {
     "data": {
      "text/plain": [
       "'王梅劭'"
      ]
     },
     "metadata": {},
     "output_type": "display_data"
    },
    {
     "data": {
      "text/plain": [
       "'林佳光'"
      ]
     },
     "metadata": {},
     "output_type": "display_data"
    },
    {
     "data": {
      "text/plain": [
       "'盧必妍'"
      ]
     },
     "metadata": {},
     "output_type": "display_data"
    },
    {
     "data": {
      "text/plain": [
       "'林思賢'"
      ]
     },
     "metadata": {},
     "output_type": "display_data"
    },
    {
     "data": {
      "text/plain": [
       "'鄧哲榮'"
      ]
     },
     "metadata": {},
     "output_type": "display_data"
    },
    {
     "data": {
      "text/plain": [
       "'陳家年'"
      ]
     },
     "metadata": {},
     "output_type": "display_data"
    },
    {
     "data": {
      "text/plain": [
       "'張俊傑'"
      ]
     },
     "metadata": {},
     "output_type": "display_data"
    },
    {
     "data": {
      "text/plain": [
       "'洪阿惠'"
      ]
     },
     "metadata": {},
     "output_type": "display_data"
    },
    {
     "data": {
      "text/plain": [
       "'陳彥治'"
      ]
     },
     "metadata": {},
     "output_type": "display_data"
    },
    {
     "data": {
      "text/plain": [
       "'盧冠發'"
      ]
     },
     "metadata": {},
     "output_type": "display_data"
    },
    {
     "data": {
      "text/plain": [
       "'程玫靖'"
      ]
     },
     "metadata": {},
     "output_type": "display_data"
    },
    {
     "data": {
      "text/plain": [
       "'潘俊賢'"
      ]
     },
     "metadata": {},
     "output_type": "display_data"
    },
    {
     "data": {
      "text/plain": [
       "'呂傑宣'"
      ]
     },
     "metadata": {},
     "output_type": "display_data"
    },
    {
     "data": {
      "text/plain": [
       "'鄭孟芳'"
      ]
     },
     "metadata": {},
     "output_type": "display_data"
    },
    {
     "data": {
      "text/plain": [
       "'彭茹靖'"
      ]
     },
     "metadata": {},
     "output_type": "display_data"
    },
    {
     "data": {
      "text/plain": [
       "'王孝純'"
      ]
     },
     "metadata": {},
     "output_type": "display_data"
    },
    {
     "data": {
      "text/plain": [
       "'吳昕婷'"
      ]
     },
     "metadata": {},
     "output_type": "display_data"
    },
    {
     "data": {
      "text/plain": [
       "'朱惠儀'"
      ]
     },
     "metadata": {},
     "output_type": "display_data"
    },
    {
     "data": {
      "text/plain": [
       "'盧文啟'"
      ]
     },
     "metadata": {},
     "output_type": "display_data"
    },
    {
     "data": {
      "text/plain": [
       "'謝佳穎'"
      ]
     },
     "metadata": {},
     "output_type": "display_data"
    },
    {
     "data": {
      "text/plain": [
       "'鄭憲定'"
      ]
     },
     "metadata": {},
     "output_type": "display_data"
    },
    {
     "data": {
      "text/plain": [
       "'馮淑芬'"
      ]
     },
     "metadata": {},
     "output_type": "display_data"
    },
    {
     "data": {
      "text/plain": [
       "'聶心怡'"
      ]
     },
     "metadata": {},
     "output_type": "display_data"
    },
    {
     "data": {
      "text/plain": [
       "'黃志福'"
      ]
     },
     "metadata": {},
     "output_type": "display_data"
    },
    {
     "data": {
      "text/plain": [
       "'馬彥文'"
      ]
     },
     "metadata": {},
     "output_type": "display_data"
    },
    {
     "data": {
      "text/plain": [
       "'郭淑真'"
      ]
     },
     "metadata": {},
     "output_type": "display_data"
    },
    {
     "data": {
      "text/plain": [
       "'吳欣書'"
      ]
     },
     "metadata": {},
     "output_type": "display_data"
    },
    {
     "data": {
      "text/plain": [
       "'鄭佳玲'"
      ]
     },
     "metadata": {},
     "output_type": "display_data"
    },
    {
     "data": {
      "text/plain": [
       "'黃健發'"
      ]
     },
     "metadata": {},
     "output_type": "display_data"
    },
    {
     "data": {
      "text/plain": [
       "'胡姿婷'"
      ]
     },
     "metadata": {},
     "output_type": "display_data"
    },
    {
     "data": {
      "text/plain": [
       "'林義皓'"
      ]
     },
     "metadata": {},
     "output_type": "display_data"
    },
    {
     "data": {
      "text/plain": [
       "'胡芳瑜'"
      ]
     },
     "metadata": {},
     "output_type": "display_data"
    },
    {
     "data": {
      "text/plain": [
       "'楊易政'"
      ]
     },
     "metadata": {},
     "output_type": "display_data"
    },
    {
     "data": {
      "text/plain": [
       "'王德城'"
      ]
     },
     "metadata": {},
     "output_type": "display_data"
    },
    {
     "data": {
      "text/plain": [
       "'劉依婷'"
      ]
     },
     "metadata": {},
     "output_type": "display_data"
    },
    {
     "data": {
      "text/plain": [
       "'吳俐芷'"
      ]
     },
     "metadata": {},
     "output_type": "display_data"
    },
    {
     "data": {
      "text/plain": [
       "'黃詩妃'"
      ]
     },
     "metadata": {},
     "output_type": "display_data"
    },
    {
     "data": {
      "text/plain": [
       "'柯韋成'"
      ]
     },
     "metadata": {},
     "output_type": "display_data"
    },
    {
     "data": {
      "text/plain": [
       "'鄧亭聿'"
      ]
     },
     "metadata": {},
     "output_type": "display_data"
    },
    {
     "data": {
      "text/plain": [
       "'王雅慧'"
      ]
     },
     "metadata": {},
     "output_type": "display_data"
    },
    {
     "data": {
      "text/plain": [
       "'陳凱翔'"
      ]
     },
     "metadata": {},
     "output_type": "display_data"
    },
    {
     "data": {
      "text/plain": [
       "'藍哲嘉'"
      ]
     },
     "metadata": {},
     "output_type": "display_data"
    },
    {
     "data": {
      "text/plain": [
       "'趙偉銘'"
      ]
     },
     "metadata": {},
     "output_type": "display_data"
    },
    {
     "data": {
      "text/plain": [
       "'張韋成'"
      ]
     },
     "metadata": {},
     "output_type": "display_data"
    },
    {
     "data": {
      "text/plain": [
       "'林向鈺'"
      ]
     },
     "metadata": {},
     "output_type": "display_data"
    },
    {
     "data": {
      "text/plain": [
       "'周琬婷'"
      ]
     },
     "metadata": {},
     "output_type": "display_data"
    },
    {
     "data": {
      "text/plain": [
       "'尚偉倫'"
      ]
     },
     "metadata": {},
     "output_type": "display_data"
    },
    {
     "data": {
      "text/plain": [
       "'賴佳雯'"
      ]
     },
     "metadata": {},
     "output_type": "display_data"
    },
    {
     "data": {
      "text/plain": [
       "'陳姵彬'"
      ]
     },
     "metadata": {},
     "output_type": "display_data"
    },
    {
     "data": {
      "text/plain": [
       "'林群清'"
      ]
     },
     "metadata": {},
     "output_type": "display_data"
    },
    {
     "data": {
      "text/plain": [
       "'趙家豪'"
      ]
     },
     "metadata": {},
     "output_type": "display_data"
    },
    {
     "data": {
      "text/plain": [
       "'李政白'"
      ]
     },
     "metadata": {},
     "output_type": "display_data"
    },
    {
     "data": {
      "text/plain": [
       "'林俊翔'"
      ]
     },
     "metadata": {},
     "output_type": "display_data"
    },
    {
     "data": {
      "text/plain": [
       "'李進慧'"
      ]
     },
     "metadata": {},
     "output_type": "display_data"
    },
    {
     "data": {
      "text/plain": [
       "'楊韻如'"
      ]
     },
     "metadata": {},
     "output_type": "display_data"
    },
    {
     "data": {
      "text/plain": [
       "'藍姿婷'"
      ]
     },
     "metadata": {},
     "output_type": "display_data"
    },
    {
     "data": {
      "text/plain": [
       "'劉嘉泰'"
      ]
     },
     "metadata": {},
     "output_type": "display_data"
    },
    {
     "data": {
      "text/plain": [
       "'王柏聖'"
      ]
     },
     "metadata": {},
     "output_type": "display_data"
    },
    {
     "data": {
      "text/plain": [
       "'孫宜珊'"
      ]
     },
     "metadata": {},
     "output_type": "display_data"
    },
    {
     "data": {
      "text/plain": [
       "'戴萱能'"
      ]
     },
     "metadata": {},
     "output_type": "display_data"
    },
    {
     "data": {
      "text/plain": [
       "'高士凱'"
      ]
     },
     "metadata": {},
     "output_type": "display_data"
    },
    {
     "data": {
      "text/plain": [
       "'楊又源'"
      ]
     },
     "metadata": {},
     "output_type": "display_data"
    },
    {
     "data": {
      "text/plain": [
       "'劉昀天'"
      ]
     },
     "metadata": {},
     "output_type": "display_data"
    },
    {
     "data": {
      "text/plain": [
       "'王怡君'"
      ]
     },
     "metadata": {},
     "output_type": "display_data"
    },
    {
     "data": {
      "text/plain": [
       "'余月修'"
      ]
     },
     "metadata": {},
     "output_type": "display_data"
    },
    {
     "data": {
      "text/plain": [
       "'劉萬季'"
      ]
     },
     "metadata": {},
     "output_type": "display_data"
    },
    {
     "data": {
      "text/plain": [
       "'陳信宏'"
      ]
     },
     "metadata": {},
     "output_type": "display_data"
    },
    {
     "data": {
      "text/plain": [
       "'陳孝邦'"
      ]
     },
     "metadata": {},
     "output_type": "display_data"
    },
    {
     "data": {
      "text/plain": [
       "'朱彥志'"
      ]
     },
     "metadata": {},
     "output_type": "display_data"
    },
    {
     "data": {
      "text/plain": [
       "'陳奇瑄'"
      ]
     },
     "metadata": {},
     "output_type": "display_data"
    },
    {
     "data": {
      "text/plain": [
       "'鄧淑娟'"
      ]
     },
     "metadata": {},
     "output_type": "display_data"
    },
    {
     "data": {
      "text/plain": [
       "'陳逸凡'"
      ]
     },
     "metadata": {},
     "output_type": "display_data"
    },
    {
     "data": {
      "text/plain": [
       "'張牧聿'"
      ]
     },
     "metadata": {},
     "output_type": "display_data"
    },
    {
     "data": {
      "text/plain": [
       "'唐雪豪'"
      ]
     },
     "metadata": {},
     "output_type": "display_data"
    },
    {
     "data": {
      "text/plain": [
       "'林康亮'"
      ]
     },
     "metadata": {},
     "output_type": "display_data"
    },
    {
     "data": {
      "text/plain": [
       "'黃旻林'"
      ]
     },
     "metadata": {},
     "output_type": "display_data"
    },
    {
     "data": {
      "text/plain": [
       "'蕭淑華'"
      ]
     },
     "metadata": {},
     "output_type": "display_data"
    },
    {
     "data": {
      "text/plain": [
       "'劉雯芬'"
      ]
     },
     "metadata": {},
     "output_type": "display_data"
    },
    {
     "data": {
      "text/plain": [
       "'陳美惠'"
      ]
     },
     "metadata": {},
     "output_type": "display_data"
    },
    {
     "data": {
      "text/plain": [
       "'孫火清'"
      ]
     },
     "metadata": {},
     "output_type": "display_data"
    },
    {
     "data": {
      "text/plain": [
       "'溫法堯'"
      ]
     },
     "metadata": {},
     "output_type": "display_data"
    },
    {
     "data": {
      "text/plain": [
       "'錢欣潔'"
      ]
     },
     "metadata": {},
     "output_type": "display_data"
    },
    {
     "data": {
      "text/plain": [
       "'陳倩潔'"
      ]
     },
     "metadata": {},
     "output_type": "display_data"
    },
    {
     "data": {
      "text/plain": [
       "'李雅怡'"
      ]
     },
     "metadata": {},
     "output_type": "display_data"
    },
    {
     "data": {
      "text/plain": [
       "'白美珍'"
      ]
     },
     "metadata": {},
     "output_type": "display_data"
    },
    {
     "data": {
      "text/plain": [
       "'葉志峰'"
      ]
     },
     "metadata": {},
     "output_type": "display_data"
    },
    {
     "data": {
      "text/plain": [
       "'黃佩芬'"
      ]
     },
     "metadata": {},
     "output_type": "display_data"
    },
    {
     "data": {
      "text/plain": [
       "'黃麗美'"
      ]
     },
     "metadata": {},
     "output_type": "display_data"
    },
    {
     "data": {
      "text/plain": [
       "'黃奎紹'"
      ]
     },
     "metadata": {},
     "output_type": "display_data"
    },
    {
     "data": {
      "text/plain": [
       "'邱亭君'"
      ]
     },
     "metadata": {},
     "output_type": "display_data"
    },
    {
     "data": {
      "text/plain": [
       "'詹忠光'"
      ]
     },
     "metadata": {},
     "output_type": "display_data"
    },
    {
     "data": {
      "text/plain": [
       "'戚亨'"
      ]
     },
     "metadata": {},
     "output_type": "display_data"
    },
    {
     "data": {
      "text/plain": [
       "'賴又琦'"
      ]
     },
     "metadata": {},
     "output_type": "display_data"
    },
    {
     "data": {
      "text/plain": [
       "'林佳人'"
      ]
     },
     "metadata": {},
     "output_type": "display_data"
    },
    {
     "data": {
      "text/plain": [
       "'黃善迪'"
      ]
     },
     "metadata": {},
     "output_type": "display_data"
    },
    {
     "data": {
      "text/plain": [
       "'賴苑禾'"
      ]
     },
     "metadata": {},
     "output_type": "display_data"
    },
    {
     "data": {
      "text/plain": [
       "'溫重意'"
      ]
     },
     "metadata": {},
     "output_type": "display_data"
    },
    {
     "data": {
      "text/plain": [
       "'周怡啟'"
      ]
     },
     "metadata": {},
     "output_type": "display_data"
    },
    {
     "data": {
      "text/plain": [
       "'王明昇'"
      ]
     },
     "metadata": {},
     "output_type": "display_data"
    },
    {
     "data": {
      "text/plain": [
       "'羅佩樺'"
      ]
     },
     "metadata": {},
     "output_type": "display_data"
    },
    {
     "data": {
      "text/plain": [
       "'陳家維'"
      ]
     },
     "metadata": {},
     "output_type": "display_data"
    },
    {
     "data": {
      "text/plain": [
       "'張莉雯'"
      ]
     },
     "metadata": {},
     "output_type": "display_data"
    },
    {
     "data": {
      "text/plain": [
       "'高俊男'"
      ]
     },
     "metadata": {},
     "output_type": "display_data"
    },
    {
     "data": {
      "text/plain": [
       "'林冠蕙'"
      ]
     },
     "metadata": {},
     "output_type": "display_data"
    },
    {
     "data": {
      "text/plain": [
       "'王品星'"
      ]
     },
     "metadata": {},
     "output_type": "display_data"
    },
    {
     "data": {
      "text/plain": [
       "'吳孟穎'"
      ]
     },
     "metadata": {},
     "output_type": "display_data"
    },
    {
     "data": {
      "text/plain": [
       "'黃雅慧'"
      ]
     },
     "metadata": {},
     "output_type": "display_data"
    },
    {
     "data": {
      "text/plain": [
       "'馮耀中'"
      ]
     },
     "metadata": {},
     "output_type": "display_data"
    },
    {
     "data": {
      "text/plain": [
       "'元延辛'"
      ]
     },
     "metadata": {},
     "output_type": "display_data"
    },
    {
     "data": {
      "text/plain": [
       "'王坤安'"
      ]
     },
     "metadata": {},
     "output_type": "display_data"
    },
    {
     "data": {
      "text/plain": [
       "'陳慧君'"
      ]
     },
     "metadata": {},
     "output_type": "display_data"
    },
    {
     "data": {
      "text/plain": [
       "'張伊映'"
      ]
     },
     "metadata": {},
     "output_type": "display_data"
    },
    {
     "data": {
      "text/plain": [
       "'林士凱'"
      ]
     },
     "metadata": {},
     "output_type": "display_data"
    },
    {
     "data": {
      "text/plain": [
       "'蘇婷婷'"
      ]
     },
     "metadata": {},
     "output_type": "display_data"
    },
    {
     "data": {
      "text/plain": [
       "'陳淑萍'"
      ]
     },
     "metadata": {},
     "output_type": "display_data"
    },
    {
     "data": {
      "text/plain": [
       "'林玉佩'"
      ]
     },
     "metadata": {},
     "output_type": "display_data"
    },
    {
     "data": {
      "text/plain": [
       "'謝貞妃'"
      ]
     },
     "metadata": {},
     "output_type": "display_data"
    },
    {
     "data": {
      "text/plain": [
       "'杜儀鳳'"
      ]
     },
     "metadata": {},
     "output_type": "display_data"
    },
    {
     "data": {
      "text/plain": [
       "'陳倩妮'"
      ]
     },
     "metadata": {},
     "output_type": "display_data"
    },
    {
     "data": {
      "text/plain": [
       "'胡淑貞'"
      ]
     },
     "metadata": {},
     "output_type": "display_data"
    },
    {
     "data": {
      "text/plain": [
       "'楊偉翔'"
      ]
     },
     "metadata": {},
     "output_type": "display_data"
    },
    {
     "data": {
      "text/plain": [
       "'姜琬婷'"
      ]
     },
     "metadata": {},
     "output_type": "display_data"
    },
    {
     "data": {
      "text/plain": [
       "'張雅芬'"
      ]
     },
     "metadata": {},
     "output_type": "display_data"
    },
    {
     "data": {
      "text/plain": [
       "'葉祖雄'"
      ]
     },
     "metadata": {},
     "output_type": "display_data"
    },
    {
     "data": {
      "text/plain": [
       "'沈心利'"
      ]
     },
     "metadata": {},
     "output_type": "display_data"
    },
    {
     "data": {
      "text/plain": [
       "'彭虹屏'"
      ]
     },
     "metadata": {},
     "output_type": "display_data"
    },
    {
     "data": {
      "text/plain": [
       "'余宗儒'"
      ]
     },
     "metadata": {},
     "output_type": "display_data"
    },
    {
     "data": {
      "text/plain": [
       "'李立偉'"
      ]
     },
     "metadata": {},
     "output_type": "display_data"
    },
    {
     "data": {
      "text/plain": [
       "'臧怡君'"
      ]
     },
     "metadata": {},
     "output_type": "display_data"
    },
    {
     "data": {
      "text/plain": [
       "'吳振瑋'"
      ]
     },
     "metadata": {},
     "output_type": "display_data"
    },
    {
     "data": {
      "text/plain": [
       "'陳建豪'"
      ]
     },
     "metadata": {},
     "output_type": "display_data"
    },
    {
     "data": {
      "text/plain": [
       "'蕭怡伶'"
      ]
     },
     "metadata": {},
     "output_type": "display_data"
    },
    {
     "data": {
      "text/plain": [
       "'周芷蓁'"
      ]
     },
     "metadata": {},
     "output_type": "display_data"
    },
    {
     "data": {
      "text/plain": [
       "'黃偉剛'"
      ]
     },
     "metadata": {},
     "output_type": "display_data"
    },
    {
     "data": {
      "text/plain": [
       "'黃婷婷'"
      ]
     },
     "metadata": {},
     "output_type": "display_data"
    },
    {
     "data": {
      "text/plain": [
       "'郎慧萍'"
      ]
     },
     "metadata": {},
     "output_type": "display_data"
    },
    {
     "data": {
      "text/plain": [
       "'林昱芳'"
      ]
     },
     "metadata": {},
     "output_type": "display_data"
    },
    {
     "data": {
      "text/plain": [
       "'趙宛真'"
      ]
     },
     "metadata": {},
     "output_type": "display_data"
    },
    {
     "data": {
      "text/plain": [
       "'白世宏'"
      ]
     },
     "metadata": {},
     "output_type": "display_data"
    },
    {
     "data": {
      "text/plain": [
       "'杜明延'"
      ]
     },
     "metadata": {},
     "output_type": "display_data"
    },
    {
     "data": {
      "text/plain": [
       "'許淑婷'"
      ]
     },
     "metadata": {},
     "output_type": "display_data"
    },
    {
     "data": {
      "text/plain": [
       "'林珍旺'"
      ]
     },
     "metadata": {},
     "output_type": "display_data"
    },
    {
     "data": {
      "text/plain": [
       "'蔡孟泉'"
      ]
     },
     "metadata": {},
     "output_type": "display_data"
    },
    {
     "data": {
      "text/plain": [
       "'吳晴洋'"
      ]
     },
     "metadata": {},
     "output_type": "display_data"
    },
    {
     "data": {
      "text/plain": [
       "'游一鈺'"
      ]
     },
     "metadata": {},
     "output_type": "display_data"
    },
    {
     "data": {
      "text/plain": [
       "'朱士弘'"
      ]
     },
     "metadata": {},
     "output_type": "display_data"
    },
    {
     "data": {
      "text/plain": [
       "'黃政甫'"
      ]
     },
     "metadata": {},
     "output_type": "display_data"
    },
    {
     "data": {
      "text/plain": [
       "'游淑惠'"
      ]
     },
     "metadata": {},
     "output_type": "display_data"
    },
    {
     "data": {
      "text/plain": [
       "'張婕妤'"
      ]
     },
     "metadata": {},
     "output_type": "display_data"
    },
    {
     "data": {
      "text/plain": [
       "'陳逸華'"
      ]
     },
     "metadata": {},
     "output_type": "display_data"
    },
    {
     "data": {
      "text/plain": [
       "'張天亨'"
      ]
     },
     "metadata": {},
     "output_type": "display_data"
    },
    {
     "data": {
      "text/plain": [
       "'張嘉韋'"
      ]
     },
     "metadata": {},
     "output_type": "display_data"
    },
    {
     "data": {
      "text/plain": [
       "'王志謙'"
      ]
     },
     "metadata": {},
     "output_type": "display_data"
    },
    {
     "data": {
      "text/plain": [
       "'黎惠雯'"
      ]
     },
     "metadata": {},
     "output_type": "display_data"
    },
    {
     "data": {
      "text/plain": [
       "'高信宏'"
      ]
     },
     "metadata": {},
     "output_type": "display_data"
    },
    {
     "data": {
      "text/plain": [
       "'梁柏宇'"
      ]
     },
     "metadata": {},
     "output_type": "display_data"
    },
    {
     "data": {
      "text/plain": [
       "'林志喜'"
      ]
     },
     "metadata": {},
     "output_type": "display_data"
    },
    {
     "data": {
      "text/plain": [
       "'金宜芳'"
      ]
     },
     "metadata": {},
     "output_type": "display_data"
    },
    {
     "data": {
      "text/plain": [
       "'簡國瑋'"
      ]
     },
     "metadata": {},
     "output_type": "display_data"
    },
    {
     "data": {
      "text/plain": [
       "'林清英'"
      ]
     },
     "metadata": {},
     "output_type": "display_data"
    },
    {
     "data": {
      "text/plain": [
       "'黃彥孝'"
      ]
     },
     "metadata": {},
     "output_type": "display_data"
    },
    {
     "data": {
      "text/plain": [
       "'鄭奇翰'"
      ]
     },
     "metadata": {},
     "output_type": "display_data"
    },
    {
     "data": {
      "text/plain": [
       "'李慶亮'"
      ]
     },
     "metadata": {},
     "output_type": "display_data"
    },
    {
     "data": {
      "text/plain": [
       "'李蓉瑞'"
      ]
     },
     "metadata": {},
     "output_type": "display_data"
    },
    {
     "data": {
      "text/plain": [
       "'張明惟'"
      ]
     },
     "metadata": {},
     "output_type": "display_data"
    },
    {
     "data": {
      "text/plain": [
       "'游詩亞'"
      ]
     },
     "metadata": {},
     "output_type": "display_data"
    },
    {
     "data": {
      "text/plain": [
       "'黃嘉琪'"
      ]
     },
     "metadata": {},
     "output_type": "display_data"
    },
    {
     "data": {
      "text/plain": [
       "'張家秀'"
      ]
     },
     "metadata": {},
     "output_type": "display_data"
    },
    {
     "data": {
      "text/plain": [
       "'吳柏誠'"
      ]
     },
     "metadata": {},
     "output_type": "display_data"
    },
    {
     "data": {
      "text/plain": [
       "'陳得映'"
      ]
     },
     "metadata": {},
     "output_type": "display_data"
    },
    {
     "data": {
      "text/plain": [
       "'郭致恬'"
      ]
     },
     "metadata": {},
     "output_type": "display_data"
    },
    {
     "data": {
      "text/plain": [
       "'林麗萍'"
      ]
     },
     "metadata": {},
     "output_type": "display_data"
    },
    {
     "data": {
      "text/plain": [
       "'陳樂紫'"
      ]
     },
     "metadata": {},
     "output_type": "display_data"
    },
    {
     "data": {
      "text/plain": [
       "'翁鈺婷'"
      ]
     },
     "metadata": {},
     "output_type": "display_data"
    },
    {
     "data": {
      "text/plain": [
       "'蔡世馨'"
      ]
     },
     "metadata": {},
     "output_type": "display_data"
    },
    {
     "data": {
      "text/plain": [
       "'楊建安'"
      ]
     },
     "metadata": {},
     "output_type": "display_data"
    },
    {
     "data": {
      "text/plain": [
       "'李湘婷'"
      ]
     },
     "metadata": {},
     "output_type": "display_data"
    },
    {
     "data": {
      "text/plain": [
       "'鞠冠宇'"
      ]
     },
     "metadata": {},
     "output_type": "display_data"
    },
    {
     "data": {
      "text/plain": [
       "'林志成'"
      ]
     },
     "metadata": {},
     "output_type": "display_data"
    },
    {
     "data": {
      "text/plain": [
       "'陳信念'"
      ]
     },
     "metadata": {},
     "output_type": "display_data"
    },
    {
     "data": {
      "text/plain": [
       "'林益妏'"
      ]
     },
     "metadata": {},
     "output_type": "display_data"
    },
    {
     "data": {
      "text/plain": [
       "'蔡偉成'"
      ]
     },
     "metadata": {},
     "output_type": "display_data"
    },
    {
     "data": {
      "text/plain": [
       "'王惠皓'"
      ]
     },
     "metadata": {},
     "output_type": "display_data"
    },
    {
     "data": {
      "text/plain": [
       "'王筱婷'"
      ]
     },
     "metadata": {},
     "output_type": "display_data"
    },
    {
     "data": {
      "text/plain": [
       "'楊火帆'"
      ]
     },
     "metadata": {},
     "output_type": "display_data"
    },
    {
     "data": {
      "text/plain": [
       "'陳怡珊'"
      ]
     },
     "metadata": {},
     "output_type": "display_data"
    },
    {
     "data": {
      "text/plain": [
       "'張慧君'"
      ]
     },
     "metadata": {},
     "output_type": "display_data"
    },
    {
     "data": {
      "text/plain": [
       "'翁羽威'"
      ]
     },
     "metadata": {},
     "output_type": "display_data"
    },
    {
     "data": {
      "text/plain": [
       "'羅幸娥'"
      ]
     },
     "metadata": {},
     "output_type": "display_data"
    },
    {
     "data": {
      "text/plain": [
       "'陳俊憲'"
      ]
     },
     "metadata": {},
     "output_type": "display_data"
    },
    {
     "data": {
      "text/plain": [
       "'洪奎夫'"
      ]
     },
     "metadata": {},
     "output_type": "display_data"
    },
    {
     "data": {
      "text/plain": [
       "'翁均安'"
      ]
     },
     "metadata": {},
     "output_type": "display_data"
    },
    {
     "data": {
      "text/plain": [
       "'吳明妮'"
      ]
     },
     "metadata": {},
     "output_type": "display_data"
    },
    {
     "data": {
      "text/plain": [
       "'高智超'"
      ]
     },
     "metadata": {},
     "output_type": "display_data"
    },
    {
     "data": {
      "text/plain": [
       "'王人仰'"
      ]
     },
     "metadata": {},
     "output_type": "display_data"
    },
    {
     "data": {
      "text/plain": [
       "'劉旭士'"
      ]
     },
     "metadata": {},
     "output_type": "display_data"
    },
    {
     "data": {
      "text/plain": [
       "'蘇凡菁'"
      ]
     },
     "metadata": {},
     "output_type": "display_data"
    },
    {
     "data": {
      "text/plain": [
       "'謝哲維'"
      ]
     },
     "metadata": {},
     "output_type": "display_data"
    },
    {
     "data": {
      "text/plain": [
       "'彭偉妃'"
      ]
     },
     "metadata": {},
     "output_type": "display_data"
    },
    {
     "data": {
      "text/plain": [
       "'劉耿琦'"
      ]
     },
     "metadata": {},
     "output_type": "display_data"
    },
    {
     "data": {
      "text/plain": [
       "'黃柏宇'"
      ]
     },
     "metadata": {},
     "output_type": "display_data"
    },
    {
     "data": {
      "text/plain": [
       "'李佳彥'"
      ]
     },
     "metadata": {},
     "output_type": "display_data"
    },
    {
     "data": {
      "text/plain": [
       "'唐翊修'"
      ]
     },
     "metadata": {},
     "output_type": "display_data"
    },
    {
     "data": {
      "text/plain": [
       "'陳建香'"
      ]
     },
     "metadata": {},
     "output_type": "display_data"
    },
    {
     "data": {
      "text/plain": [
       "'葉軍仰'"
      ]
     },
     "metadata": {},
     "output_type": "display_data"
    },
    {
     "data": {
      "text/plain": [
       "'吳志宣'"
      ]
     },
     "metadata": {},
     "output_type": "display_data"
    },
    {
     "data": {
      "text/plain": [
       "'林珈發'"
      ]
     },
     "metadata": {},
     "output_type": "display_data"
    },
    {
     "data": {
      "text/plain": [
       "'黃翔杰'"
      ]
     },
     "metadata": {},
     "output_type": "display_data"
    },
    {
     "data": {
      "text/plain": [
       "'郭坤花'"
      ]
     },
     "metadata": {},
     "output_type": "display_data"
    },
    {
     "data": {
      "text/plain": [
       "'吳淑惠'"
      ]
     },
     "metadata": {},
     "output_type": "display_data"
    },
    {
     "data": {
      "text/plain": [
       "'簡美君'"
      ]
     },
     "metadata": {},
     "output_type": "display_data"
    },
    {
     "data": {
      "text/plain": [
       "'許芳如'"
      ]
     },
     "metadata": {},
     "output_type": "display_data"
    },
    {
     "data": {
      "text/plain": [
       "'謝水儒'"
      ]
     },
     "metadata": {},
     "output_type": "display_data"
    },
    {
     "data": {
      "text/plain": [
       "'陳怡容'"
      ]
     },
     "metadata": {},
     "output_type": "display_data"
    },
    {
     "data": {
      "text/plain": [
       "'蔡欣汝'"
      ]
     },
     "metadata": {},
     "output_type": "display_data"
    },
    {
     "data": {
      "text/plain": [
       "'王良斌'"
      ]
     },
     "metadata": {},
     "output_type": "display_data"
    },
    {
     "data": {
      "text/plain": [
       "'周家銘'"
      ]
     },
     "metadata": {},
     "output_type": "display_data"
    },
    {
     "data": {
      "text/plain": [
       "'張凱妮'"
      ]
     },
     "metadata": {},
     "output_type": "display_data"
    },
    {
     "data": {
      "text/plain": [
       "'鄭淑珍'"
      ]
     },
     "metadata": {},
     "output_type": "display_data"
    },
    {
     "data": {
      "text/plain": [
       "'陳嘉淑'"
      ]
     },
     "metadata": {},
     "output_type": "display_data"
    },
    {
     "data": {
      "text/plain": [
       "'魏秋萍'"
      ]
     },
     "metadata": {},
     "output_type": "display_data"
    },
    {
     "data": {
      "text/plain": [
       "'簡佳樺'"
      ]
     },
     "metadata": {},
     "output_type": "display_data"
    },
    {
     "data": {
      "text/plain": [
       "'劉佳佩'"
      ]
     },
     "metadata": {},
     "output_type": "display_data"
    },
    {
     "data": {
      "text/plain": [
       "'李彥伸'"
      ]
     },
     "metadata": {},
     "output_type": "display_data"
    },
    {
     "data": {
      "text/plain": [
       "'陳筱涵'"
      ]
     },
     "metadata": {},
     "output_type": "display_data"
    },
    {
     "data": {
      "text/plain": [
       "'蔡明平'"
      ]
     },
     "metadata": {},
     "output_type": "display_data"
    },
    {
     "data": {
      "text/plain": [
       "'王展人'"
      ]
     },
     "metadata": {},
     "output_type": "display_data"
    },
    {
     "data": {
      "text/plain": [
       "'方筠紹'"
      ]
     },
     "metadata": {},
     "output_type": "display_data"
    },
    {
     "data": {
      "text/plain": [
       "'陳志偉'"
      ]
     },
     "metadata": {},
     "output_type": "display_data"
    },
    {
     "data": {
      "text/plain": [
       "'錢佩豪'"
      ]
     },
     "metadata": {},
     "output_type": "display_data"
    },
    {
     "data": {
      "text/plain": [
       "'陳冠霞'"
      ]
     },
     "metadata": {},
     "output_type": "display_data"
    },
    {
     "data": {
      "text/plain": [
       "'潘英迪'"
      ]
     },
     "metadata": {},
     "output_type": "display_data"
    },
    {
     "data": {
      "text/plain": [
       "'陳冠竹'"
      ]
     },
     "metadata": {},
     "output_type": "display_data"
    },
    {
     "data": {
      "text/plain": [
       "'李淑芳'"
      ]
     },
     "metadata": {},
     "output_type": "display_data"
    },
    {
     "data": {
      "text/plain": [
       "'謝南慧'"
      ]
     },
     "metadata": {},
     "output_type": "display_data"
    },
    {
     "data": {
      "text/plain": [
       "'趙家豪'"
      ]
     },
     "metadata": {},
     "output_type": "display_data"
    },
    {
     "data": {
      "text/plain": [
       "'龐皓芳'"
      ]
     },
     "metadata": {},
     "output_type": "display_data"
    },
    {
     "data": {
      "text/plain": [
       "'張彥博'"
      ]
     },
     "metadata": {},
     "output_type": "display_data"
    },
    {
     "data": {
      "text/plain": [
       "['陳怡伶\\n',\n",
       " '馮芳如\\n',\n",
       " '蒙淑惠\\n',\n",
       " '張軒宸\\n',\n",
       " '陳向愛\\n',\n",
       " '賴心怡\\n',\n",
       " '王怡珊\\n',\n",
       " '林詠斌\\n',\n",
       " '陳淑娟\\n',\n",
       " '崔孝憲\\n',\n",
       " '林希啟\\n',\n",
       " '楊韋廷\\n',\n",
       " '陳文賢\\n',\n",
       " '王士銘\\n',\n",
       " '賴昌韻\\n',\n",
       " '黃名明\\n',\n",
       " '吳麗卿\\n',\n",
       " '游治旺\\n',\n",
       " '蔡嘉音\\n',\n",
       " '黃靜怡\\n',\n",
       " '黃淑芬\\n',\n",
       " '龔姵君\\n',\n",
       " '景歡燦\\n',\n",
       " '李政成\\n',\n",
       " '楊綺芬\\n',\n",
       " '昌嘉洋\\n',\n",
       " '李慈啟\\n',\n",
       " '游倫城\\n',\n",
       " '林淑安\\n',\n",
       " '蔡士賢\\n',\n",
       " '林世城\\n',\n",
       " '林佳蓉\\n',\n",
       " '柯宜臻\\n',\n",
       " '傅佳琳\\n',\n",
       " '林瑞喬\\n',\n",
       " '林佳慧\\n',\n",
       " '鍾俞禎\\n',\n",
       " '劉慧君\\n',\n",
       " '劉林中\\n',\n",
       " '林怡偉\\n',\n",
       " '余丞苓\\n',\n",
       " '黃佩玲\\n',\n",
       " '林建宏\\n',\n",
       " '方雅慧\\n',\n",
       " '林柏洋\\n',\n",
       " '郭舜昇\\n',\n",
       " '艾巧夫\\n',\n",
       " '童建霖\\n',\n",
       " '蔡至剛\\n',\n",
       " '黃心航\\n',\n",
       " '張凡成\\n',\n",
       " '郭淑枝\\n',\n",
       " '黃必琪\\n',\n",
       " '楊健麟\\n',\n",
       " '林建勳\\n',\n",
       " '鄭琇亞\\n',\n",
       " '王雅琴\\n',\n",
       " '李美洋\\n',\n",
       " '楊少亮\\n',\n",
       " '王泓泰\\n',\n",
       " '黃江旭\\n',\n",
       " '王梅劭\\n',\n",
       " '林佳光\\n',\n",
       " '盧必妍\\n',\n",
       " '林思賢\\n',\n",
       " '鄧哲榮\\n',\n",
       " '陳家年\\n',\n",
       " '張俊傑\\n',\n",
       " '洪阿惠\\n',\n",
       " '陳彥治\\n',\n",
       " '盧冠發\\n',\n",
       " '程玫靖\\n',\n",
       " '潘俊賢\\n',\n",
       " '呂傑宣\\n',\n",
       " '鄭孟芳\\n',\n",
       " '彭茹靖\\n',\n",
       " '王孝純\\n',\n",
       " '吳昕婷\\n',\n",
       " '朱惠儀\\n',\n",
       " '盧文啟\\n',\n",
       " '謝佳穎\\n',\n",
       " '鄭憲定\\n',\n",
       " '馮淑芬\\n',\n",
       " '聶心怡\\n',\n",
       " '黃志福\\n',\n",
       " '馬彥文\\n',\n",
       " '郭淑真\\n',\n",
       " '吳欣書\\n',\n",
       " '鄭佳玲\\n',\n",
       " '黃健發\\n',\n",
       " '胡姿婷\\n',\n",
       " '林義皓\\n',\n",
       " '胡芳瑜\\n',\n",
       " '楊易政\\n',\n",
       " '王德城\\n',\n",
       " '劉依婷\\n',\n",
       " '吳俐芷\\n',\n",
       " '黃詩妃\\n',\n",
       " '柯韋成\\n',\n",
       " '鄧亭聿\\n',\n",
       " '王雅慧\\n',\n",
       " '陳凱翔\\n',\n",
       " '藍哲嘉\\n',\n",
       " '趙偉銘\\n',\n",
       " '張韋成\\n',\n",
       " '林向鈺\\n',\n",
       " '周琬婷\\n',\n",
       " '尚偉倫\\n',\n",
       " '賴佳雯\\n',\n",
       " '陳姵彬\\n',\n",
       " '林群清\\n',\n",
       " '趙家豪\\n',\n",
       " '李政白\\n',\n",
       " '林俊翔\\n',\n",
       " '李進慧\\n',\n",
       " '楊韻如\\n',\n",
       " '藍姿婷\\n',\n",
       " '劉嘉泰\\n',\n",
       " '王柏聖\\n',\n",
       " '孫宜珊\\n',\n",
       " '戴萱能\\n',\n",
       " '高士凱\\n',\n",
       " '楊又源\\n',\n",
       " '劉昀天\\n',\n",
       " '王怡君\\n',\n",
       " '余月修\\n',\n",
       " '劉萬季\\n',\n",
       " '陳信宏\\n',\n",
       " '陳孝邦\\n',\n",
       " '朱彥志\\n',\n",
       " '陳奇瑄\\n',\n",
       " '鄧淑娟\\n',\n",
       " '陳逸凡\\n',\n",
       " '張牧聿\\n',\n",
       " '唐雪豪\\n',\n",
       " '林康亮\\n',\n",
       " '黃旻林\\n',\n",
       " '蕭淑華\\n',\n",
       " '劉雯芬\\n',\n",
       " '陳美惠\\n',\n",
       " '孫火清\\n',\n",
       " '溫法堯\\n',\n",
       " '錢欣潔\\n',\n",
       " '陳倩潔\\n',\n",
       " '李雅怡\\n',\n",
       " '白美珍\\n',\n",
       " '葉志峰\\n',\n",
       " '黃佩芬\\n',\n",
       " '黃麗美\\n',\n",
       " '黃奎紹\\n',\n",
       " '邱亭君\\n',\n",
       " '詹忠光\\n',\n",
       " '戚亨\\n',\n",
       " '賴又琦\\n',\n",
       " '林佳人\\n',\n",
       " '黃善迪\\n',\n",
       " '賴苑禾\\n',\n",
       " '溫重意\\n',\n",
       " '周怡啟\\n',\n",
       " '王明昇\\n',\n",
       " '羅佩樺\\n',\n",
       " '陳家維\\n',\n",
       " '張莉雯\\n',\n",
       " '高俊男\\n',\n",
       " '林冠蕙\\n',\n",
       " '王品星\\n',\n",
       " '吳孟穎\\n',\n",
       " '黃雅慧\\n',\n",
       " '馮耀中\\n',\n",
       " '元延辛\\n',\n",
       " '王坤安\\n',\n",
       " '陳慧君\\n',\n",
       " '張伊映\\n',\n",
       " '林士凱\\n',\n",
       " '蘇婷婷\\n',\n",
       " '陳淑萍\\n',\n",
       " '林玉佩\\n',\n",
       " '謝貞妃\\n',\n",
       " '杜儀鳳\\n',\n",
       " '陳倩妮\\n',\n",
       " '胡淑貞\\n',\n",
       " '楊偉翔\\n',\n",
       " '姜琬婷\\n',\n",
       " '張雅芬\\n',\n",
       " '葉祖雄\\n',\n",
       " '沈心利\\n',\n",
       " '彭虹屏\\n',\n",
       " '余宗儒\\n',\n",
       " '李立偉\\n',\n",
       " '臧怡君\\n',\n",
       " '吳振瑋\\n',\n",
       " '陳建豪\\n',\n",
       " '蕭怡伶\\n',\n",
       " '周芷蓁\\n',\n",
       " '黃偉剛\\n',\n",
       " '黃婷婷\\n',\n",
       " '郎慧萍\\n',\n",
       " '林昱芳\\n',\n",
       " '趙宛真\\n',\n",
       " '白世宏\\n',\n",
       " '杜明延\\n',\n",
       " '許淑婷\\n',\n",
       " '林珍旺\\n',\n",
       " '蔡孟泉\\n',\n",
       " '吳晴洋\\n',\n",
       " '游一鈺\\n',\n",
       " '朱士弘\\n',\n",
       " '黃政甫\\n',\n",
       " '游淑惠\\n',\n",
       " '張婕妤\\n',\n",
       " '陳逸華\\n',\n",
       " '張天亨\\n',\n",
       " '張嘉韋\\n',\n",
       " '王志謙\\n',\n",
       " '黎惠雯\\n',\n",
       " '高信宏\\n',\n",
       " '梁柏宇\\n',\n",
       " '林志喜\\n',\n",
       " '金宜芳\\n',\n",
       " '簡國瑋\\n',\n",
       " '林清英\\n',\n",
       " '黃彥孝\\n',\n",
       " '鄭奇翰\\n',\n",
       " '李慶亮\\n',\n",
       " '李蓉瑞\\n',\n",
       " '張明惟\\n',\n",
       " '游詩亞\\n',\n",
       " '黃嘉琪\\n',\n",
       " '張家秀\\n',\n",
       " '吳柏誠\\n',\n",
       " '陳得映\\n',\n",
       " '郭致恬\\n',\n",
       " '林麗萍\\n',\n",
       " '陳樂紫\\n',\n",
       " '翁鈺婷\\n',\n",
       " '蔡世馨\\n',\n",
       " '楊建安\\n',\n",
       " '李湘婷\\n',\n",
       " '鞠冠宇\\n',\n",
       " '林志成\\n',\n",
       " '陳信念\\n',\n",
       " '林益妏\\n',\n",
       " '蔡偉成\\n',\n",
       " '王惠皓\\n',\n",
       " '王筱婷\\n',\n",
       " '楊火帆\\n',\n",
       " '陳怡珊\\n',\n",
       " '張慧君\\n',\n",
       " '翁羽威\\n',\n",
       " '羅幸娥\\n',\n",
       " '陳俊憲\\n',\n",
       " '洪奎夫\\n',\n",
       " '翁均安\\n',\n",
       " '吳明妮\\n',\n",
       " '高智超\\n',\n",
       " '王人仰\\n',\n",
       " '劉旭士\\n',\n",
       " '蘇凡菁\\n',\n",
       " '謝哲維\\n',\n",
       " '彭偉妃\\n',\n",
       " '劉耿琦\\n',\n",
       " '黃柏宇\\n',\n",
       " '李佳彥\\n',\n",
       " '唐翊修\\n',\n",
       " '陳建香\\n',\n",
       " '葉軍仰\\n',\n",
       " '吳志宣\\n',\n",
       " '林珈發\\n',\n",
       " '黃翔杰\\n',\n",
       " '郭坤花\\n',\n",
       " '吳淑惠\\n',\n",
       " '簡美君\\n',\n",
       " '許芳如\\n',\n",
       " '謝水儒\\n',\n",
       " '陳怡容\\n',\n",
       " '蔡欣汝\\n',\n",
       " '王良斌\\n',\n",
       " '周家銘\\n',\n",
       " '張凱妮\\n',\n",
       " '鄭淑珍\\n',\n",
       " '陳嘉淑\\n',\n",
       " '魏秋萍\\n',\n",
       " '簡佳樺\\n',\n",
       " '劉佳佩\\n',\n",
       " '李彥伸\\n',\n",
       " '陳筱涵\\n',\n",
       " '蔡明平\\n',\n",
       " '王展人\\n',\n",
       " '方筠紹\\n',\n",
       " '陳志偉\\n',\n",
       " '錢佩豪\\n',\n",
       " '陳冠霞\\n',\n",
       " '潘英迪\\n',\n",
       " '陳冠竹\\n',\n",
       " '李淑芳\\n',\n",
       " '謝南慧\\n',\n",
       " '趙家豪\\n',\n",
       " '龐皓芳\\n',\n",
       " '張彥博']"
      ]
     },
     "execution_count": 7,
     "metadata": {},
     "output_type": "execute_result"
    }
   ],
   "source": [
    "import os\n",
    "file_name:str = \"names.txt\"\n",
    "abs_path:str = os.path.abspath(file_name)\n",
    "file=open(abs_path,encoding = \"utf-8\")\n",
    "names:list[str] = file.readlines()\n",
    "for name in names:\n",
    "    display (name.rstrip(\"\\n\"))\n",
    "names"
   ]
  },
  {
   "cell_type": "markdown",
   "id": "c7ff771e",
   "metadata": {},
   "source": [
    "### list comprehensions 的語法\n",
    "Python 中 list comprehension 的語法結構如下：\n",
    "```\n",
    "[expression for item in iterable (if condition)]\n",
    "expression：用來決定新串列中每個元素的值，可以是運算式或函式呼叫。\n",
    "for item in iterable：從可迭代物件（如串列、range 等）中依序取出元素。\n",
    "if condition（可選）：篩選條件，只有符合條件的元素才會被包含在結果串列中。\n",
    "範例：\n",
    "```\n",
    "### 建立一個包含 0~4 乘以 2 的串列\n",
    "```\n",
    "my_list = [i * 2 for i in range(5)]\n",
    "print(my_list)  # 輸出: [0, 2, 4, 6, 8]\n",
    "```\n",
    "\n",
    "### 篩選出大於 2 的元素並乘以 3\n",
    "```\n",
    "filtered_list = [x * 3 for x in range(10) if x > 2]\n",
    "print(filtered_list)  # 輸出: [9, 12, 15, 18, 21, 24, 27]\n",
    "list comprehension 不僅能簡化程式碼，還通常比傳統的 for 迴圈執行效率更高[1][3][5]。\n",
    "```\n",
    "\n",
    "\n",
    "file = open(abs_path,encoding='utf-8')"
   ]
  },
  {
   "cell_type": "code",
   "execution_count": null,
   "id": "32891fe5",
   "metadata": {},
   "outputs": [
    {
     "data": {
      "text/plain": [
       "['陳怡伶',\n",
       " '馮芳如',\n",
       " '蒙淑惠',\n",
       " '張軒宸',\n",
       " '陳向愛',\n",
       " '賴心怡',\n",
       " '王怡珊',\n",
       " '林詠斌',\n",
       " '陳淑娟',\n",
       " '崔孝憲',\n",
       " '林希啟',\n",
       " '楊韋廷',\n",
       " '陳文賢',\n",
       " '王士銘',\n",
       " '賴昌韻',\n",
       " '黃名明',\n",
       " '吳麗卿',\n",
       " '游治旺',\n",
       " '蔡嘉音',\n",
       " '黃靜怡',\n",
       " '黃淑芬',\n",
       " '龔姵君',\n",
       " '景歡燦',\n",
       " '李政成',\n",
       " '楊綺芬',\n",
       " '昌嘉洋',\n",
       " '李慈啟',\n",
       " '游倫城',\n",
       " '林淑安',\n",
       " '蔡士賢',\n",
       " '林世城',\n",
       " '林佳蓉',\n",
       " '柯宜臻',\n",
       " '傅佳琳',\n",
       " '林瑞喬',\n",
       " '林佳慧',\n",
       " '鍾俞禎',\n",
       " '劉慧君',\n",
       " '劉林中',\n",
       " '林怡偉',\n",
       " '余丞苓',\n",
       " '黃佩玲',\n",
       " '林建宏',\n",
       " '方雅慧',\n",
       " '林柏洋',\n",
       " '郭舜昇',\n",
       " '艾巧夫',\n",
       " '童建霖',\n",
       " '蔡至剛',\n",
       " '黃心航',\n",
       " '張凡成',\n",
       " '郭淑枝',\n",
       " '黃必琪',\n",
       " '楊健麟',\n",
       " '林建勳',\n",
       " '鄭琇亞',\n",
       " '王雅琴',\n",
       " '李美洋',\n",
       " '楊少亮',\n",
       " '王泓泰',\n",
       " '黃江旭',\n",
       " '王梅劭',\n",
       " '林佳光',\n",
       " '盧必妍',\n",
       " '林思賢',\n",
       " '鄧哲榮',\n",
       " '陳家年',\n",
       " '張俊傑',\n",
       " '洪阿惠',\n",
       " '陳彥治',\n",
       " '盧冠發',\n",
       " '程玫靖',\n",
       " '潘俊賢',\n",
       " '呂傑宣',\n",
       " '鄭孟芳',\n",
       " '彭茹靖',\n",
       " '王孝純',\n",
       " '吳昕婷',\n",
       " '朱惠儀',\n",
       " '盧文啟',\n",
       " '謝佳穎',\n",
       " '鄭憲定',\n",
       " '馮淑芬',\n",
       " '聶心怡',\n",
       " '黃志福',\n",
       " '馬彥文',\n",
       " '郭淑真',\n",
       " '吳欣書',\n",
       " '鄭佳玲',\n",
       " '黃健發',\n",
       " '胡姿婷',\n",
       " '林義皓',\n",
       " '胡芳瑜',\n",
       " '楊易政',\n",
       " '王德城',\n",
       " '劉依婷',\n",
       " '吳俐芷',\n",
       " '黃詩妃',\n",
       " '柯韋成',\n",
       " '鄧亭聿',\n",
       " '王雅慧',\n",
       " '陳凱翔',\n",
       " '藍哲嘉',\n",
       " '趙偉銘',\n",
       " '張韋成',\n",
       " '林向鈺',\n",
       " '周琬婷',\n",
       " '尚偉倫',\n",
       " '賴佳雯',\n",
       " '陳姵彬',\n",
       " '林群清',\n",
       " '趙家豪',\n",
       " '李政白',\n",
       " '林俊翔',\n",
       " '李進慧',\n",
       " '楊韻如',\n",
       " '藍姿婷',\n",
       " '劉嘉泰',\n",
       " '王柏聖',\n",
       " '孫宜珊',\n",
       " '戴萱能',\n",
       " '高士凱',\n",
       " '楊又源',\n",
       " '劉昀天',\n",
       " '王怡君',\n",
       " '余月修',\n",
       " '劉萬季',\n",
       " '陳信宏',\n",
       " '陳孝邦',\n",
       " '朱彥志',\n",
       " '陳奇瑄',\n",
       " '鄧淑娟',\n",
       " '陳逸凡',\n",
       " '張牧聿',\n",
       " '唐雪豪',\n",
       " '林康亮',\n",
       " '黃旻林',\n",
       " '蕭淑華',\n",
       " '劉雯芬',\n",
       " '陳美惠',\n",
       " '孫火清',\n",
       " '溫法堯',\n",
       " '錢欣潔',\n",
       " '陳倩潔',\n",
       " '李雅怡',\n",
       " '白美珍',\n",
       " '葉志峰',\n",
       " '黃佩芬',\n",
       " '黃麗美',\n",
       " '黃奎紹',\n",
       " '邱亭君',\n",
       " '詹忠光',\n",
       " '戚亨',\n",
       " '賴又琦',\n",
       " '林佳人',\n",
       " '黃善迪',\n",
       " '賴苑禾',\n",
       " '溫重意',\n",
       " '周怡啟',\n",
       " '王明昇',\n",
       " '羅佩樺',\n",
       " '陳家維',\n",
       " '張莉雯',\n",
       " '高俊男',\n",
       " '林冠蕙',\n",
       " '王品星',\n",
       " '吳孟穎',\n",
       " '黃雅慧',\n",
       " '馮耀中',\n",
       " '元延辛',\n",
       " '王坤安',\n",
       " '陳慧君',\n",
       " '張伊映',\n",
       " '林士凱',\n",
       " '蘇婷婷',\n",
       " '陳淑萍',\n",
       " '林玉佩',\n",
       " '謝貞妃',\n",
       " '杜儀鳳',\n",
       " '陳倩妮',\n",
       " '胡淑貞',\n",
       " '楊偉翔',\n",
       " '姜琬婷',\n",
       " '張雅芬',\n",
       " '葉祖雄',\n",
       " '沈心利',\n",
       " '彭虹屏',\n",
       " '余宗儒',\n",
       " '李立偉',\n",
       " '臧怡君',\n",
       " '吳振瑋',\n",
       " '陳建豪',\n",
       " '蕭怡伶',\n",
       " '周芷蓁',\n",
       " '黃偉剛',\n",
       " '黃婷婷',\n",
       " '郎慧萍',\n",
       " '林昱芳',\n",
       " '趙宛真',\n",
       " '白世宏',\n",
       " '杜明延',\n",
       " '許淑婷',\n",
       " '林珍旺',\n",
       " '蔡孟泉',\n",
       " '吳晴洋',\n",
       " '游一鈺',\n",
       " '朱士弘',\n",
       " '黃政甫',\n",
       " '游淑惠',\n",
       " '張婕妤',\n",
       " '陳逸華',\n",
       " '張天亨',\n",
       " '張嘉韋',\n",
       " '王志謙',\n",
       " '黎惠雯',\n",
       " '高信宏',\n",
       " '梁柏宇',\n",
       " '林志喜',\n",
       " '金宜芳',\n",
       " '簡國瑋',\n",
       " '林清英',\n",
       " '黃彥孝',\n",
       " '鄭奇翰',\n",
       " '李慶亮',\n",
       " '李蓉瑞',\n",
       " '張明惟',\n",
       " '游詩亞',\n",
       " '黃嘉琪',\n",
       " '張家秀',\n",
       " '吳柏誠',\n",
       " '陳得映',\n",
       " '郭致恬',\n",
       " '林麗萍',\n",
       " '陳樂紫',\n",
       " '翁鈺婷',\n",
       " '蔡世馨',\n",
       " '楊建安',\n",
       " '李湘婷',\n",
       " '鞠冠宇',\n",
       " '林志成',\n",
       " '陳信念',\n",
       " '林益妏',\n",
       " '蔡偉成',\n",
       " '王惠皓',\n",
       " '王筱婷',\n",
       " '楊火帆',\n",
       " '陳怡珊',\n",
       " '張慧君',\n",
       " '翁羽威',\n",
       " '羅幸娥',\n",
       " '陳俊憲',\n",
       " '洪奎夫',\n",
       " '翁均安',\n",
       " '吳明妮',\n",
       " '高智超',\n",
       " '王人仰',\n",
       " '劉旭士',\n",
       " '蘇凡菁',\n",
       " '謝哲維',\n",
       " '彭偉妃',\n",
       " '劉耿琦',\n",
       " '黃柏宇',\n",
       " '李佳彥',\n",
       " '唐翊修',\n",
       " '陳建香',\n",
       " '葉軍仰',\n",
       " '吳志宣',\n",
       " '林珈發',\n",
       " '黃翔杰',\n",
       " '郭坤花',\n",
       " '吳淑惠',\n",
       " '簡美君',\n",
       " '許芳如',\n",
       " '謝水儒',\n",
       " '陳怡容',\n",
       " '蔡欣汝',\n",
       " '王良斌',\n",
       " '周家銘',\n",
       " '張凱妮',\n",
       " '鄭淑珍',\n",
       " '陳嘉淑',\n",
       " '魏秋萍',\n",
       " '簡佳樺',\n",
       " '劉佳佩',\n",
       " '李彥伸',\n",
       " '陳筱涵',\n",
       " '蔡明平',\n",
       " '王展人',\n",
       " '方筠紹',\n",
       " '陳志偉',\n",
       " '錢佩豪',\n",
       " '陳冠霞',\n",
       " '潘英迪',\n",
       " '陳冠竹',\n",
       " '李淑芳',\n",
       " '謝南慧',\n",
       " '趙家豪',\n",
       " '龐皓芳',\n",
       " '張彥博']"
      ]
     },
     "execution_count": 9,
     "metadata": {},
     "output_type": "execute_result"
    }
   ],
   "source": [
    "import os\n",
    "file_name:str = \"names.txt\"\n",
    "abs_path:str = os.path.abspath(file_name)\n",
    "file=open(abs_path,encoding = \"utf-8\")\n",
    "names:list[str] = file.readlines()\n",
    "#new_names = []\n",
    "#for name in names:\n",
    "    #new_names.append (name.rstrip(\"\\n\"))\n",
    "#new_names\n",
    "new_names = [name.rsrtip(\"\\n\")for name in names] # list comprehensions"
   ]
  },
  {
   "cell_type": "markdown",
   "id": "458fb064",
   "metadata": {},
   "source": [
    "### file為什麼要關閉,如何關閉?\n",
    "在 Python 中，文件需要關閉的原因及關閉方法如下：\n",
    "\n",
    "## 為什麼要關閉文件？\n",
    "\n",
    "1. **釋放系統資源**：操作系統對每個進程可打開的文件數量有限，若不關閉文件，會導致文件描述符耗盡，無法再打開新文件[1][6]。\n",
    "\n",
    "2. **確保資料寫入磁盤**：文件寫入通常先存在緩衝區，關閉文件會將緩衝區的資料同步（flush）到磁盤，避免資料遺失[1][3][6]。\n",
    "\n",
    "3. **避免文件鎖定問題**：在某些系統（如 Windows）中，打開的文件會被鎖定，不關閉會阻礙其他程序訪問該文件[6]。\n",
    "\n",
    "4. **防止資料損壞與安全風險**：未關閉文件可能導致資料損壞，甚至造成安全隱患[6]。\n",
    "\n",
    "## 如何關閉文件？\n",
    "\n",
    "- **使用 `close()` 方法**：\n",
    "\n",
    "```python\n",
    "file = open(\"example.txt\", \"w\")\n",
    "file.write(\"Hello\")\n",
    "file.close()  # 明確關閉文件，釋放資源並寫入緩衝區資料\n",
    "```\n",
    "\n",
    "- **使用上下文管理器（推薦）**：\n",
    "\n",
    "```python\n",
    "with open(\"example.txt\", \"w\") as file:\n",
    "    file.write(\"Hello\")\n",
    "# 代碼塊結束後自動關閉文件，不需手動調用 close()\n",
    "```\n",
    "\n",
    "上下文管理器可確保即使發生異常，文件也會被正確關閉[6][7]。\n",
    "\n",
    "---\n",
    "\n",
    "總結來說，關閉文件是為了釋放系統資源、保證資料完整寫入，以及避免文件鎖定和資料損壞問題。最佳實踐是使用 `with` 語句自動管理文件的開啟與關閉。\n",
    "\n",
    "---\n",
    "來自 Perplexity 的回答: pplx.ai/share"
   ]
  },
  {
   "cell_type": "code",
   "execution_count": 15,
   "id": "38fc6732",
   "metadata": {},
   "outputs": [],
   "source": [
    "import os\n",
    "file_name:str = \"names.txt\"\n",
    "abs_path:str = os.path.abspath(file_name)\n",
    "with open(abs_path,encoding = \"utf-8\") as file:\n",
    "    names:list[str] = file.readlines()\n",
    "    #new_names = []\n",
    "    #for name in names:\n",
    "        #new_names.append (name.rstrip(\"\\n\"))\n",
    "    #new_names\n",
    "    names = [name.rstrip(\"\\n\")for name in names] # list comprehensions\n",
    "    file.close()\n",
    "#names"
   ]
  },
  {
   "cell_type": "markdown",
   "id": "521f2267",
   "metadata": {},
   "source": [
    "### names:str是python的list,如何使用亂數的方式取出5個姓名字串\n",
    "你有一個 `names: list[str]`，想用亂數方式取出 5 個姓名字串，可以使用 Python 的 `random` 模組來達成。以下是幾種常見且有效的方法：\n",
    "\n",
    "---\n",
    "\n",
    "## 方法一：使用 `random.sample()`（推薦）\n",
    "\n",
    "`random.sample()` 可以從列表中**不重複**地隨機抽取指定數量的元素。\n",
    "\n",
    "```python\n",
    "import random\n",
    "\n",
    "names = [\"Alice\", \"Bob\", \"Charlie\", \"David\", \"Eva\", \"Frank\", \"Grace\", \"Helen\"]\n",
    "\n",
    "# 從 names 中隨機抽取 5 個不重複的姓名\n",
    "random_names = random.sample(names, 5)\n",
    "\n",
    "print(random_names)\n",
    "```\n",
    "\n",
    "> 注意：`random.sample()` 抽取的數量不能大於列表長度，否則會拋出錯誤。\n",
    "\n",
    "---\n",
    "\n",
    "## 方法二：使用 `random.choices()`（可重複抽取）\n",
    "\n",
    "如果允許重複抽取（即同一個名字可能被選多次），可以用 `random.choices()`：\n",
    "\n",
    "```python\n",
    "import random\n",
    "\n",
    "names = [\"Alice\", \"Bob\", \"Charlie\", \"David\", \"Eva\", \"Frank\", \"Grace\", \"Helen\"]\n",
    "\n",
    "# 從 names 中隨機抽取 5 個姓名（可重複）\n",
    "random_names = random.choices(names, k=5)\n",
    "\n",
    "print(random_names)\n",
    "```\n",
    "\n",
    "---\n",
    "\n",
    "## 方法三：打亂列表後取前 5 個元素\n",
    "\n",
    "```python\n",
    "import random\n",
    "\n",
    "names = [\"Alice\", \"Bob\", \"Charlie\", \"David\", \"Eva\", \"Frank\", \"Grace\", \"Helen\"]\n",
    "\n",
    "random.shuffle(names)  # 原地打亂列表\n",
    "random_names = names[:5]\n",
    "\n",
    "print(random_names)\n",
    "```\n",
    "\n",
    "---\n",
    "\n",
    "## 總結\n",
    "\n",
    "| 方法              | 是否可重複 | 使用場景                   |\n",
    "|-------------------|------------|----------------------------|\n",
    "| `random.sample()`  | 否         | 需要不重複的隨機抽樣       |\n",
    "| `random.choices()` | 是         | 允許重複抽樣               |\n",
    "| `random.shuffle()` | 否         | 需要打亂整個列表後取前幾個 |\n",
    "\n",
    "---\n",
    "\n",
    "如果你想要**不重複**且簡潔的方式，推薦使用 `random.sample()`。  \n",
    "如果你有其他需求，也可以告訴我，我可以幫你調整程式碼！\n",
    "\n",
    "---\n",
    "來自 Perplexity 的回答: pplx.ai/share"
   ]
  },
  {
   "cell_type": "markdown",
   "id": "73e2c6ae",
   "metadata": {},
   "source": [
    "### 如何查出list的元素數量?\n",
    "在 Python 中，要查詢一個 list 中元素的數量，可以使用內建函數 `len()`。\n",
    "\n",
    "## 使用方法\n",
    "\n",
    "```python\n",
    "my_list = [1, 2, 3, 4, 5]\n",
    "count = len(my_list)\n",
    "print(count)  # 輸出: 5\n",
    "```\n",
    "\n",
    "`len()` 函數會回傳 list 中元素的個數。\n",
    "\n",
    "---\n",
    "\n",
    "## 補充\n",
    "\n",
    "- `len()` 也適用於其他可迭代物件，如字串、字典、集合等。\n",
    "- 如果你想統計 list 中某個特定元素出現的次數，可以用 `list.count()` 方法，例如：\n",
    "\n",
    "```python\n",
    "my_list = [1, 2, 2, 3, 2, 4]\n",
    "count_2 = my_list.count(2)\n",
    "print(count_2)  # 輸出: 3\n",
    "```\n",
    "\n",
    "---\n",
    "\n",
    "總結：  \n",
    "**查詢 list 中元素數量，使用 `len(list)` 即可。**\n",
    "\n",
    "---\n",
    "來自 Perplexity 的回答: pplx.ai/share"
   ]
  },
  {
   "cell_type": "code",
   "execution_count": 19,
   "id": "8de035ab",
   "metadata": {},
   "outputs": [
    {
     "data": {
      "text/plain": [
       "5"
      ]
     },
     "execution_count": 19,
     "metadata": {},
     "output_type": "execute_result"
    }
   ],
   "source": [
    "import random\n",
    "student_names:list[str]=random.sample(names,k=5)\n",
    "#student_names\n",
    "len(student_names) #查數量"
   ]
  },
  {
   "cell_type": "code",
   "execution_count": 20,
   "id": "f3c4fa94",
   "metadata": {},
   "outputs": [
    {
     "data": {
      "text/plain": [
       "[{'姓名': '吳柏誠', '國文': 79, '英文': 81, '數學': 81},\n",
       " {'姓名': '陳家年', '國文': 90, '英文': 57, '數學': 86},\n",
       " {'姓名': '陳姵彬', '國文': 71, '英文': 83, '數學': 77},\n",
       " {'姓名': '林康亮', '國文': 71, '英文': 74, '數學': 59},\n",
       " {'姓名': '高信宏', '國文': 52, '英文': 79, '數學': 66},\n",
       " {'姓名': '李政成', '國文': 57, '英文': 89, '數學': 92},\n",
       " {'姓名': '黃奎紹', '國文': 58, '英文': 92, '數學': 88},\n",
       " {'姓名': '余丞苓', '國文': 53, '英文': 69, '數學': 94},\n",
       " {'姓名': '林清英', '國文': 81, '英文': 80, '數學': 78},\n",
       " {'姓名': '翁羽威', '國文': 64, '英文': 67, '數學': 84},\n",
       " {'姓名': '黃彥孝', '國文': 82, '英文': 60, '數學': 85},\n",
       " {'姓名': '王怡君', '國文': 97, '英文': 53, '數學': 66},\n",
       " {'姓名': '陳淑娟', '國文': 82, '英文': 84, '數學': 74},\n",
       " {'姓名': '楊韻如', '國文': 66, '英文': 92, '數學': 98},\n",
       " {'姓名': '黃淑芬', '國文': 97, '英文': 79, '數學': 96},\n",
       " {'姓名': '游淑惠', '國文': 69, '英文': 78, '數學': 81},\n",
       " {'姓名': '黃必琪', '國文': 91, '英文': 92, '數學': 82},\n",
       " {'姓名': '藍哲嘉', '國文': 62, '英文': 72, '數學': 67},\n",
       " {'姓名': '陳冠霞', '國文': 67, '英文': 87, '數學': 98},\n",
       " {'姓名': '林瑞喬', '國文': 84, '英文': 66, '數學': 62},\n",
       " {'姓名': '謝哲維', '國文': 69, '英文': 52, '數學': 56},\n",
       " {'姓名': '吳明妮', '國文': 58, '英文': 69, '數學': 79},\n",
       " {'姓名': '林珈發', '國文': 84, '英文': 97, '數學': 73},\n",
       " {'姓名': '蔡士賢', '國文': 91, '英文': 65, '數學': 66},\n",
       " {'姓名': '盧冠發', '國文': 63, '英文': 61, '數學': 89},\n",
       " {'姓名': '賴佳雯', '國文': 75, '英文': 55, '數學': 88},\n",
       " {'姓名': '黃健發', '國文': 92, '英文': 68, '數學': 70},\n",
       " {'姓名': '聶心怡', '國文': 63, '英文': 80, '數學': 81},\n",
       " {'姓名': '張家秀', '國文': 90, '英文': 66, '數學': 53},\n",
       " {'姓名': '劉耿琦', '國文': 55, '英文': 71, '數學': 92},\n",
       " {'姓名': '賴又琦', '國文': 94, '英文': 56, '數學': 83},\n",
       " {'姓名': '馬彥文', '國文': 89, '英文': 79, '數學': 79},\n",
       " {'姓名': '吳晴洋', '國文': 87, '英文': 96, '數學': 98},\n",
       " {'姓名': '蔡欣汝', '國文': 100, '英文': 75, '數學': 80},\n",
       " {'姓名': '張俊傑', '國文': 80, '英文': 97, '數學': 97},\n",
       " {'姓名': '林佳人', '國文': 72, '英文': 68, '數學': 81},\n",
       " {'姓名': '白世宏', '國文': 81, '英文': 85, '數學': 81},\n",
       " {'姓名': '林淑安', '國文': 84, '英文': 81, '數學': 89},\n",
       " {'姓名': '吳麗卿', '國文': 65, '英文': 75, '數學': 54},\n",
       " {'姓名': '陳得映', '國文': 60, '英文': 54, '數學': 69},\n",
       " {'姓名': '楊易政', '國文': 100, '英文': 84, '數學': 77},\n",
       " {'姓名': '李彥伸', '國文': 95, '英文': 96, '數學': 98},\n",
       " {'姓名': '林建勳', '國文': 81, '英文': 55, '數學': 82},\n",
       " {'姓名': '林詠斌', '國文': 53, '英文': 89, '數學': 55},\n",
       " {'姓名': '葉志峰', '國文': 59, '英文': 79, '數學': 55},\n",
       " {'姓名': '陳怡伶', '國文': 79, '英文': 68, '數學': 55},\n",
       " {'姓名': '蔡世馨', '國文': 82, '英文': 73, '數學': 87},\n",
       " {'姓名': '王德城', '國文': 57, '英文': 99, '數學': 86},\n",
       " {'姓名': '陳慧君', '國文': 60, '英文': 58, '數學': 90},\n",
       " {'姓名': '楊火帆', '國文': 94, '英文': 71, '數學': 96}]"
      ]
     },
     "execution_count": 20,
     "metadata": {},
     "output_type": "execute_result"
    }
   ],
   "source": [
    "import random\n",
    "students_names:list[str]= random.sample(names,k=50)\n",
    "students = []\n",
    "for name in students_names:\n",
    "    stu_dict = dict()\n",
    "    stu_dict[\"姓名\"] = name\n",
    "    stu_dict[\"國文\"] = random.randint(50, 100)\n",
    "    stu_dict[\"英文\"] = random.randint(50, 100)\n",
    "    stu_dict[\"數學\"] = random.randint(50, 100)\n",
    "    students.append(stu_dict)\n",
    "    \n",
    "students    "
   ]
  },
  {
   "cell_type": "markdown",
   "id": "8b8fa646",
   "metadata": {},
   "source": [
    "### 我的list內有dict,如何儲存為students.csv\n",
    "你有一個包含多個字典的 list，想把它儲存成 `students.csv`，可以使用 Python 內建的 `csv` 模組中的 `DictWriter` 來實現。以下是具體步驟與範例：\n",
    "\n",
    "```python\n",
    "import csv\n",
    "\n",
    "# 假設你的 list 裡有多個字典，每個字典代表一個學生資料\n",
    "students = [\n",
    "    {\"name\": \"Alice\", \"age\": 20, \"grade\": \"A\"},\n",
    "    {\"name\": \"Bob\", \"age\": 22, \"grade\": \"B\"},\n",
    "    {\"name\": \"Charlie\", \"age\": 21, \"grade\": \"A\"},\n",
    "    {\"name\": \"David\", \"age\": 23, \"grade\": \"C\"},\n",
    "    {\"name\": \"Eva\", \"age\": 20, \"grade\": \"B\"}\n",
    "]\n",
    "\n",
    "# 指定欄位名稱（欄位順序會依此排列）\n",
    "fieldnames = [\"name\", \"age\", \"grade\"]\n",
    "\n",
    "# 開啟 CSV 檔案，使用 newline='' 避免空行問題\n",
    "with open(\"students.csv\", \"w\", newline=\"\", encoding=\"utf-8\") as csvfile:\n",
    "    writer = csv.DictWriter(csvfile, fieldnames=fieldnames)\n",
    "\n",
    "    # 寫入表頭\n",
    "    writer.writeheader()\n",
    "\n",
    "    # 寫入多筆學生資料\n",
    "    writer.writerows(students)\n",
    "```\n",
    "\n",
    "### 說明\n",
    "- `csv.DictWriter` 會根據 `fieldnames` 來決定 CSV 的欄位標題與欄位順序。\n",
    "- 使用 `writeheader()` 寫入欄位名稱。\n",
    "- 使用 `writerows()` 一次寫入整個 list 中的字典資料。\n",
    "- `newline=''` 是為了避免在 Windows 系統中產生多餘空行。\n",
    "- 建議加上 `encoding=\"utf-8\"` 以支援中文等非 ASCII 字元。\n",
    "\n",
    "這樣執行完後，會在同目錄下產生一個名為 `students.csv` 的檔案，內容格式類似：\n",
    "\n",
    "```\n",
    "name,age,grade\n",
    "Alice,20,A\n",
    "Bob,22,B\n",
    "Charlie,21,A\n",
    "David,23,C\n",
    "Eva,20,B\n",
    "```\n",
    "\n",
    "此方法簡潔且高效，適合將 list of dicts 轉成 CSV 檔案[2][3][6][7]。\n",
    "\n",
    "---\n",
    "來自 Perplexity 的回答: pplx.ai/share"
   ]
  },
  {
   "cell_type": "code",
   "execution_count": null,
   "id": "50d61156",
   "metadata": {},
   "outputs": [],
   "source": [
    "import random\n",
    "students_names:list[str]= random.sample(names,k=50)\n",
    "students = []\n",
    "for name in students_names:\n",
    "    stu_dict = dict()\n",
    "    stu_dict[\"姓名\"] = name\n",
    "    stu_dict[\"國文\"] = random.randint(50, 100)\n",
    "    stu_dict[\"英文\"] = random.randint(50, 100)\n",
    "    stu_dict[\"數學\"] = random.randint(50, 100)\n",
    "    students.append(stu_dict)\n",
    "    \n",
    "students    "
   ]
  },
  {
   "cell_type": "markdown",
   "id": "4299b33a",
   "metadata": {},
   "source": [
    "### 我的list內有dict,如何儲存為students.csv\n",
    "\n",
    "你可以使用 Python 內建的 csv 模組中的 csv.DictWriter，將你的 list of dict 寫入 CSV 檔案。以下是範例程式碼，示範如何把你的資料儲存成 students.csv：\n",
    "\n",
    "import csv\n",
    "\n",
    "students = [\n",
    "    {'姓名': '錢欣潔', '國文': 100, '英文': 77, '數學': 59},\n",
    "    {'姓名': '許芳如', '國文': 98, '英文': 74, '數學': 99},\n",
    "    {'姓名': '陳怡伶', '國文': 54, '英文': 67, '數學': 79}\n",
    "]\n",
    "你可以參考以下範例程式碼，使用 `csv.DictWriter` 將包含字典的 list 儲存成 `students.csv`：\n",
    "\n",
    "```python\n",
    "import csv\n",
    "\n",
    "students = [\n",
    "    {'姓名': '錢欣潔', '國文': 100, '英文': 77, '數學': 59},\n",
    "    {'姓名': '許芳如', '國文': 98, '英文': 74, '數學': 99},\n",
    "    {'姓名': '陳怡伶', '國文': 54, '英文': 67, '數學': 79}\n",
    "]\n",
    "\n",
    "# 取得欄位名稱（假設所有字典鍵相同）\n",
    "fieldnames = ['姓名', '國文', '英文', '數學']\n",
    "\n",
    "with open('students.csv', 'w', newline='', encoding='utf-8') as csvfile:\n",
    "    writer = csv.DictWriter(csvfile, fieldnames=fieldnames)\n",
    "\n",
    "    # 寫入表頭\n",
    "    writer.writeheader()\n",
    "\n",
    "    # 寫入資料\n",
    "    writer.writerows(students)\n",
    "\n",
    "print(\"已成功將資料寫入 students.csv\")\n",
    "```\n",
    "\n",
    "### 說明\n",
    "- `fieldnames` 是 CSV 欄位的標題，順序會影響 CSV 欄位順序。\n",
    "- 使用 `newline=''` 避免 Windows 系統寫入時產生多餘空行。\n",
    "- `encoding='utf-8'` 可正確處理中文。\n",
    "- `writer.writeheader()` 寫入欄位名稱。\n",
    "- `writer.writerows(students)` 一次寫入多筆資料。\n",
    "\n",
    "執行後會產生如下格式的 `students.csv`：\n",
    "\n",
    "```\n",
    "姓名,國文,英文,數學\n",
    "錢欣潔,100,77,59\n",
    "許芳如,98,74,99\n",
    "陳怡伶,54,67,79\n",
    "```\n",
    "\n",
    "這樣就完成了將 list 裡的 dict 儲存成 CSV 檔案！如果有其他需求，也歡迎告訴我。\n",
    "\n",
    "---\n",
    "來自 Perplexity 的回答: pplx.ai/share"
   ]
  },
  {
   "cell_type": "code",
   "execution_count": 23,
   "id": "447c645d",
   "metadata": {},
   "outputs": [
    {
     "data": {
      "text/plain": [
       "dict_keys(['姓名', '國文', '英文', '數學'])"
      ]
     },
     "execution_count": 23,
     "metadata": {},
     "output_type": "execute_result"
    }
   ],
   "source": [
    "students[0].keys()"
   ]
  },
  {
   "cell_type": "code",
   "execution_count": 24,
   "id": "b4a24344",
   "metadata": {},
   "outputs": [
    {
     "data": {
      "text/plain": [
       "['姓名', '國文', '英文', '數學']"
      ]
     },
     "execution_count": 24,
     "metadata": {},
     "output_type": "execute_result"
    }
   ],
   "source": [
    "list(students[0].keys())"
   ]
  },
  {
   "cell_type": "code",
   "execution_count": 27,
   "id": "c00579fb",
   "metadata": {},
   "outputs": [
    {
     "name": "stdout",
     "output_type": "stream",
     "text": [
      "students.csv已經存檔\n"
     ]
    }
   ],
   "source": [
    "#儲存檔案為csv格式\n",
    "\n",
    "import csv\n",
    "from csv import DictWriter\n",
    "\n",
    "field_names:list[str] = list(students[0].keys())\n",
    "with open(\"students.csv\",mode='w',encoding='utf-8',newline='') as file:\n",
    "    writer:DictWriter = csv.DictWriter(file,field_names)\n",
    "    writer.writeheader()\n",
    "    writer.writerows(students)\n",
    "\n",
    "print(\"students.csv已經存檔\")"
   ]
  }
 ],
 "metadata": {
  "kernelspec": {
   "display_name": "base",
   "language": "python",
   "name": "python3"
  },
  "language_info": {
   "codemirror_mode": {
    "name": "ipython",
    "version": 3
   },
   "file_extension": ".py",
   "mimetype": "text/x-python",
   "name": "python",
   "nbconvert_exporter": "python",
   "pygments_lexer": "ipython3",
   "version": "3.12.7"
  }
 },
 "nbformat": 4,
 "nbformat_minor": 5
}
