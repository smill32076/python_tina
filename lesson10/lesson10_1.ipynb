{
 "cells": [
  {
   "cell_type": "markdown",
   "id": "6b48ee5e",
   "metadata": {},
   "source": [
    "### 如何python取得目前專案內的names.txt的絕對位置\n",
    "- 請使用繁體中文回覆\n",
    "\n",
    "### 範例一\n",
    "```\n",
    "import os\n",
    "\n",
    "# 取得目前執行的 Python 檔案所在的目錄（專案根目錄）\n",
    "current_dir = os.path.dirname(os.path.abspath(__file__))\n",
    "\n",
    "# 拼接出 names.txt 的絕對路徑\n",
    "file_path = os.path.join(current_dir, 'names.txt')\n",
    "\n",
    "print(file_path)\n",
    "```\n",
    "\n",
    "### 範例二\n",
    "```\n",
    "from pathlib import Path\n",
    "\n",
    "# 取得目前執行的 Python 檔案所在的目錄（專案根目錄）\n",
    "current_dir = Path(__file__).parent\n",
    "\n",
    "# 拼接出 names.txt 的絕對路徑\n",
    "file_path = current_dir / 'names.txt'\n",
    "\n",
    "print(file_path.resolve())\n",
    "```"
   ]
  },
  {
   "cell_type": "code",
   "execution_count": null,
   "id": "b6e8425d",
   "metadata": {},
   "outputs": [
    {
     "data": {
      "text/plain": [
       "{'__name__': '__main__',\n",
       " '__doc__': 'Automatically created module for IPython interactive environment',\n",
       " '__package__': None,\n",
       " '__loader__': None,\n",
       " '__spec__': None,\n",
       " '__builtin__': <module 'builtins' (built-in)>,\n",
       " '__builtins__': <module 'builtins' (built-in)>,\n",
       " '_ih': ['', '__file__', '__name__', 'vars()'],\n",
       " '_oh': {2: '__main__'},\n",
       " '_dh': [PosixPath('/workspaces/python_tina/lesson10')],\n",
       " 'In': ['', '__file__', '__name__', 'vars()'],\n",
       " 'Out': {2: '__main__'},\n",
       " 'get_ipython': <bound method InteractiveShell.get_ipython of <ipykernel.zmqshell.ZMQInteractiveShell object at 0x7749e07b4e00>>,\n",
       " 'exit': <IPython.core.autocall.ZMQExitAutocall at 0x7749e07b4200>,\n",
       " 'quit': <IPython.core.autocall.ZMQExitAutocall at 0x7749e07b4200>,\n",
       " 'open': <function _io.open(file, mode='r', buffering=-1, encoding=None, errors=None, newline=None, closefd=True, opener=None)>,\n",
       " '_': '__main__',\n",
       " '__': '',\n",
       " '___': '',\n",
       " '__vsc_ipynb_file__': '/workspaces/python_tina/lesson10/lesson10_1.ipynb',\n",
       " '_i': '__name__',\n",
       " '_ii': '__file__',\n",
       " '_iii': '',\n",
       " '_i1': '__file__',\n",
       " '_i2': '__name__',\n",
       " '_2': '__main__',\n",
       " '_i3': 'vars()'}"
      ]
     },
     "execution_count": 3,
     "metadata": {},
     "output_type": "execute_result"
    }
   ],
   "source": [
    "vars() #內建查詢代碼"
   ]
  },
  {
   "cell_type": "code",
   "execution_count": 4,
   "id": "a330923d",
   "metadata": {},
   "outputs": [
    {
     "data": {
      "text/plain": [
       "'/workspaces/python_tina/lesson10/names.txt'"
      ]
     },
     "execution_count": 4,
     "metadata": {},
     "output_type": "execute_result"
    }
   ],
   "source": [
    "import os\n",
    "file_name:str = \"names.txt\"\n",
    "abs_path = os.path.abspath(file_name)\n",
    "abs_path"
   ]
  },
  {
   "cell_type": "markdown",
   "id": "01c7dc4d",
   "metadata": {},
   "source": [
    "### python如何讀取names.txt\n",
    "- 請示用繁體中文回覆"
   ]
  }
 ],
 "metadata": {
  "kernelspec": {
   "display_name": "base",
   "language": "python",
   "name": "python3"
  },
  "language_info": {
   "codemirror_mode": {
    "name": "ipython",
    "version": 3
   },
   "file_extension": ".py",
   "mimetype": "text/x-python",
   "name": "python",
   "nbconvert_exporter": "python",
   "pygments_lexer": "ipython3",
   "version": "3.12.7"
  }
 },
 "nbformat": 4,
 "nbformat_minor": 5
}
