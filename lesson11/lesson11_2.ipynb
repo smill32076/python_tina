{
 "cells": [
  {
   "cell_type": "markdown",
   "id": "02a062e9",
   "metadata": {},
   "source": [
    "### 如果你想用Python下載網路上的資料或檔案，以下是幾個建議的常用套件：\n",
    "```\n",
    "\n",
    "Requests：最常用的HTTP請求套件，簡單易用，適合直接下載檔案或抓取網頁內容。安裝指令為 pip install requests。當下載連結是靜態且直接可用時，使用Requests即可輕鬆完成下載[1][5][6][7]。\n",
    "\n",
    "Selenium：當下載連結是動態生成或需要模擬瀏覽器操作（例如點擊按鈕）才能出現時，Selenium可以自動化瀏覽器操作，配合Webdriver使用，適合較複雜的網頁下載需求[5][6]。\n",
    "\n",
    "BeautifulSoup：主要用於解析HTML，搭配Requests或Selenium使用，從網頁中提取下載連結，再進行下載[5][6]。\n",
    "\n",
    "Urllib3：另一個強大的HTTP庫，功能類似Requests，但更底層，適合需要更細節控制的下載任務[2]。\n",
    "\n",
    "這些套件都可以透過Python的套件管理工具pip安裝，pip是Python內建的包管理器，使用方式簡單，例如：\n",
    "\n",
    "pip install requests\n",
    "pip install selenium\n",
    "pip install beautifulsoup4\n",
    "總結來說，若是一般的網頁檔案下載，可以先用Requests；若需模擬操作或處理動態網頁，則搭配Selenium和BeautifulSoup會更靈活[1][5][6]。\n",
    "\n",
    "如果你需要快速製作網頁應用來分享資料，也可以考慮Streamlit套件，它能用純Python語法快速建立網頁介面[4]。\n",
    "\n",
    "以上是目前Python下載網路資料常用且推薦的套件。\n",
    "\n",
    "以下是 Python requests 套件的常用使用方法，幫助你快速上手 HTTP 請求：\n",
    "\n",
    "基本用法\n",
    "import requests\n",
    "```\n",
    "\n",
    "# 發送 GET 請求\n",
    "response = requests.get('https://api.example.com/data')\n",
    "\n",
    "# 查看狀態碼\n",
    "print(response.status_code)\n",
    "\n",
    "# 取得回應內容（bytes）\n",
    "print(response.content)\n",
    "\n",
    "# 取得回應文字（字串）\n",
    "print(response.text)\n",
    "\n",
    "# 直接解析 JSON 回應為 Python dict 或 list\n",
    "```\n",
    "data = response.json()\n",
    "print(data)\n",
    "常用 HTTP 方法\n",
    "方法\t功能說明\t範例\n",
    "GET\t取得資料\trequests.get('https://api.example.com/data')\n",
    "POST\t傳送資料\trequests.post('https://api.example.com/data', data={'key':'value'})\n",
    "PUT\t更新資料\trequests.put('https://api.example.com/data', data={'key':'value'})\n",
    "DELETE\t刪除資料\trequests.delete('https://api.example.com/data')\n",
    "PATCH\t部分更新資料\trequests.patch('https://api.example.com/data', data={'key':'value'})\n",
    "HEAD\t只取得回應標頭\trequests.head('https://api.example.com/data')\n",
    "OPTIONS\t查詢支援的 HTTP 方法\trequests.options('https://api.example.com/data')\n",
    "傳送參數與標頭\n",
    "```\n",
    "# GET 請求帶參數\n",
    "params = {'key1': 'value1', 'key2': 'value2'}\n",
    "response = requests.get('https://api.example.com/data', params=params)\n",
    "\n",
    "# 自訂標頭\n",
    "headers = {'Content-Type': 'application/json', 'Authorization': 'Bearer token'}\n",
    "response = requests.get('https://api.example.com/data', headers=headers)\n",
    "上傳檔案\n",
    "files = {'file': open('example.txt', 'rb')}\n",
    "response = requests.post('https://api.example.com/upload', files=files)\n",
    "管理 Cookies 與 Session\n",
    "# 取得回應的 Cookie\n",
    "cookies = response.cookies\n",
    "print(cookies.get('cookie_name'))\n",
    "\n",
    "# 使用 Session 保持連線狀態（例如登入後）\n",
    "```\n",
    "session = requests.Session()\n",
    "session.get('https://api.example.com/login')\n",
    "response = session.get('https://api.example.com/data')\n",
    "設定逾時與 SSL 驗證\n",
    "```\n",
    "# 設定逾時秒數\n",
    "response = requests.get('https://api.example.com/data', timeout=5)\n",
    "\n",
    "# 關閉 SSL 驗證（不建議用於正式環境）\n",
    "```\n",
    "response = requests.get('https://api.example.com/data', verify=False)\n",
    "錯誤處理範例\n",
    "try:\n",
    "    response = requests.get('https://api.example.com/data')\n",
    "    response.raise_for_status()  # 如果狀態碼是 4xx 或 5xx，會丟出例外\n",
    "except requests.exceptions.HTTPError as err:\n",
    "    print(f\"HTTP 錯誤發生: {err}\")\n",
    "except requests.exceptions.RequestException as err:\n",
    "    print(f\"請求錯誤發生: {err}\")\n",
    "```"
   ]
  },
  {
   "cell_type": "code",
   "execution_count": 5,
   "id": "4ef13556",
   "metadata": {},
   "outputs": [],
   "source": [
    "import requests"
   ]
  },
  {
   "cell_type": "code",
   "execution_count": 9,
   "id": "4aa3041e",
   "metadata": {},
   "outputs": [
    {
     "name": "stdout",
     "output_type": "stream",
     "text": [
      "下載成功\n"
     ]
    }
   ],
   "source": [
    "\n",
    "import requests\n",
    "from requests import Response\n",
    "\n",
    "url:str = 'https://data.ntpc.gov.tw/api/datasets/010e5b15-3823-4b20-b401-b1cf000550c5/json?page=0&size=1000'\n",
    "response:Response = requests.get(url, timeout=5)\n",
    "if response.status_code == 200:\n",
    "    print(\"下載成功\")\n",
    "else:\n",
    "    print(\"下載失敗\")"
   ]
  },
  {
   "cell_type": "code",
   "execution_count": 11,
   "id": "82539199",
   "metadata": {},
   "outputs": [
    {
     "name": "stdout",
     "output_type": "stream",
     "text": [
      "<class 'str'>\n"
     ]
    }
   ],
   "source": [
    "from pprint import pprint\n",
    "print(type(response.text))\n",
    "#pprint(response.text,compact=True,width=300,depth=True)"
   ]
  }
 ],
 "metadata": {
  "kernelspec": {
   "display_name": "myenv1",
   "language": "python",
   "name": "python3"
  },
  "language_info": {
   "codemirror_mode": {
    "name": "ipython",
    "version": 3
   },
   "file_extension": ".py",
   "mimetype": "text/x-python",
   "name": "python",
   "nbconvert_exporter": "python",
   "pygments_lexer": "ipython3",
   "version": "3.10.16"
  }
 },
 "nbformat": 4,
 "nbformat_minor": 5
}
