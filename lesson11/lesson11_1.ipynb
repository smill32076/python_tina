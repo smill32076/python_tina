{
 "cells": [
  {
   "cell_type": "code",
   "execution_count": null,
   "id": "e0267001",
   "metadata": {},
   "outputs": [],
   "source": [
    "import csv\n",
    "from pprint import pprint\n",
    "\n",
    "file_name:str = \"練習/aqx_p_488.csv\"\n",
    "with open(file_name, newline='', encoding='utf-8-sig') as csvfile:\n",
    "    reader = csv.DictReader(csvfile)  # 使用 DictReader 讀取成字典格式\n",
    "    sites = list(reader)\n",
    "    \n",
    "pprint (sites)"
   ]
  },
  {
   "cell_type": "code",
   "execution_count": 7,
   "id": "f4f85060",
   "metadata": {},
   "outputs": [
    {
     "name": "stdout",
     "output_type": "stream",
     "text": [
      "pip 24.2 from /opt/conda/lib/python3.12/site-packages/pip (python 3.12)\n",
      "Note: you may need to restart the kernel to use updated packages.\n"
     ]
    }
   ],
   "source": [
    "%pip --version"
   ]
  }
 ],
 "metadata": {
  "kernelspec": {
   "display_name": "myenv1",
   "language": "python",
   "name": "python3"
  },
  "language_info": {
   "codemirror_mode": {
    "name": "ipython",
    "version": 3
   },
   "file_extension": ".py",
   "mimetype": "text/x-python",
   "name": "python",
   "nbconvert_exporter": "python",
   "pygments_lexer": "ipython3",
   "version": "3.10.16"
  }
 },
 "nbformat": 4,
 "nbformat_minor": 5
}
