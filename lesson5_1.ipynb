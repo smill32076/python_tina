{
 "cells": [
  {
   "cell_type": "markdown",
   "id": "7203d2a0",
   "metadata": {},
   "source": [
    "###巢狀判斷\n",
    "- 貓\n",
    "- 熊\n",
    "- 蜥蜴\n",
    "- 人類"
   ]
  },
  {
   "cell_type": "code",
   "execution_count": 1,
   "id": "9d9b24e3",
   "metadata": {},
   "outputs": [
    {
     "name": "stdout",
     "output_type": "stream",
     "text": [
      "熊\n"
     ]
    }
   ],
   "source": [
    "furry:bool=True\n",
    "small:bool=False\n",
    "if furry:\n",
    "    if small:\n",
    "        print(\"貓\")\n",
    "    else:\n",
    "        print(\"熊\")\n",
    "else:\n",
    "    if small:\n",
    "        print(\"小蜥蜴\")\n",
    "    else:\n",
    "        print(\"人類\")"
   ]
  },
  {
   "cell_type": "code",
   "execution_count": 7,
   "id": "c446808d",
   "metadata": {},
   "outputs": [
    {
     "name": "stdout",
     "output_type": "stream",
     "text": [
      "學生等級:不及格\n"
     ]
    }
   ],
   "source": [
    "score:int=int(input(\"請輸入學生分數:\"))\n",
    "if score >= 80:\n",
    "    grade:str = \"優\"\n",
    "else:\n",
    "    #小於80\n",
    "    if score >= 60:\n",
    "        #小於80同時大於等於60\n",
    "        grade:str=\"及格\"\n",
    "    else:\n",
    "        grade:str=\"不及格\"\n",
    "print(f\"學生等級:{grade}\")"
   ]
  },
  {
   "cell_type": "markdown",
   "id": "a4e66b23",
   "metadata": {},
   "source": [
    "### 多項選擇"
   ]
  },
  {
   "cell_type": "code",
   "execution_count": 10,
   "id": "bd2cdc18",
   "metadata": {},
   "outputs": [
    {
     "name": "stdout",
     "output_type": "stream",
     "text": [
      "學生等級:不及格\n"
     ]
    }
   ],
   "source": [
    "score:int=int(input(\"請輸入學生分數:\"))\n",
    "if score >= 80:\n",
    "    grade:str = \"優\"\n",
    "elif score >= 60:\n",
    "    #小於80同時大於等於60\n",
    "    grade:str=\"及格\"\n",
    "else:\n",
    "    grade:str=\"不及格\"\n",
    "print(f\"學生等級:{grade}\")"
   ]
  }
 ],
 "metadata": {
  "kernelspec": {
   "display_name": "base",
   "language": "python",
   "name": "python3"
  },
  "language_info": {
   "codemirror_mode": {
    "name": "ipython",
    "version": 3
   },
   "file_extension": ".py",
   "mimetype": "text/x-python",
   "name": "python",
   "nbconvert_exporter": "python",
   "pygments_lexer": "ipython3",
   "version": "3.12.7"
  }
 },
 "nbformat": 4,
 "nbformat_minor": 5
}
