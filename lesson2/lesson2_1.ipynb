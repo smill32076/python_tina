{
 "cells": [
  {
   "cell_type": "code",
   "execution_count": 2,
   "id": "07e2c8e5",
   "metadata": {},
   "outputs": [
    {
     "name": "stdout",
     "output_type": "stream",
     "text": [
      "hallo! word!\n",
      "hallo! python!\n"
     ]
    }
   ],
   "source": [
    "print(\"hallo! word!\")\n",
    "print(\"hallo! python!\")"
   ]
  }
 ],
 "metadata": {
  "kernelspec": {
   "display_name": "base",
   "language": "python",
   "name": "python3"
  },
  "language_info": {
   "codemirror_mode": {
    "name": "ipython",
    "version": 3
   },
   "file_extension": ".py",
   "mimetype": "text/x-python",
   "name": "python",
   "nbconvert_exporter": "python",
   "pygments_lexer": "ipython3",
   "version": "3.12.7"
  }
 },
 "nbformat": 4,
 "nbformat_minor": 5
}
