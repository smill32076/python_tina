{
 "cells": [
  {
   "cell_type": "markdown",
   "id": "45961ad5",
   "metadata": {},
   "source": [
    "### 迴圈 for in 與 range(串列資料)的使用方式\n",
    "- range(stop)\n",
    "- range(star,stop,step=1)\n",
    "- for 自訂變數(例如：ele) in + rante(串列資料)"
   ]
  },
  {
   "cell_type": "code",
   "execution_count": 1,
   "id": "42ce1957",
   "metadata": {},
   "outputs": [
    {
     "data": {
      "text/plain": [
       "range(0, 5)"
      ]
     },
     "execution_count": 1,
     "metadata": {},
     "output_type": "execute_result"
    }
   ],
   "source": [
    "zero_to_nine:range = range(5)\n",
    "zero_to_nine"
   ]
  },
  {
   "cell_type": "code",
   "execution_count": 2,
   "id": "b599ebd2",
   "metadata": {},
   "outputs": [
    {
     "name": "stdout",
     "output_type": "stream",
     "text": [
      "0\n",
      "1\n",
      "2\n",
      "3\n",
      "4\n"
     ]
    }
   ],
   "source": [
    "for ele in range(5):\n",
    "    print(ele)"
   ]
  },
  {
   "cell_type": "code",
   "execution_count": 3,
   "id": "abf7c2f1",
   "metadata": {},
   "outputs": [
    {
     "name": "stdout",
     "output_type": "stream",
     "text": [
      "1\n",
      "2\n",
      "3\n",
      "4\n"
     ]
    }
   ],
   "source": [
    "for ele in range(1,5):\n",
    "    print(ele)"
   ]
  },
  {
   "cell_type": "code",
   "execution_count": 4,
   "id": "c6996bbe",
   "metadata": {},
   "outputs": [
    {
     "name": "stdout",
     "output_type": "stream",
     "text": [
      "1\n",
      "3\n",
      "5\n",
      "7\n",
      "9\n"
     ]
    }
   ],
   "source": [
    "for ele in range(1,11,2):\n",
    "    print(ele)"
   ]
  },
  {
   "cell_type": "markdown",
   "id": "014f82df",
   "metadata": {},
   "source": [
    "### 如果明確知道執行的次數，請使用for in 迴圈"
   ]
  },
  {
   "cell_type": "code",
   "execution_count": 5,
   "id": "5b65160f",
   "metadata": {},
   "outputs": [
    {
     "name": "stdout",
     "output_type": "stream",
     "text": [
      "5050\n"
     ]
    }
   ],
   "source": [
    "total=0\n",
    "for i in range(1,101):\n",
    "    total+= i\n",
    "print(total)"
   ]
  },
  {
   "cell_type": "markdown",
   "id": "2d0ef2d2",
   "metadata": {},
   "source": [
    "### _ 省略運算子"
   ]
  },
  {
   "cell_type": "code",
   "execution_count": 6,
   "id": "b5a48fc8",
   "metadata": {},
   "outputs": [
    {
     "name": "stdout",
     "output_type": "stream",
     "text": [
      "很重要\n",
      "很重要\n",
      "很重要\n"
     ]
    }
   ],
   "source": [
    "for _ in range(3):\n",
    "    print(\"很重要\")"
   ]
  },
  {
   "cell_type": "markdown",
   "id": "86b9e06c",
   "metadata": {},
   "source": [
    "### 字串，就是 串列資料 (Sequence)"
   ]
  },
  {
   "cell_type": "code",
   "execution_count": 7,
   "id": "b5151f19",
   "metadata": {},
   "outputs": [
    {
     "name": "stdout",
     "output_type": "stream",
     "text": [
      "很\n",
      "重\n",
      "要\n"
     ]
    }
   ],
   "source": [
    "for word in \"很重要\":\n",
    "    print(word)"
   ]
  }
 ],
 "metadata": {
  "kernelspec": {
   "display_name": "base",
   "language": "python",
   "name": "python3"
  },
  "language_info": {
   "codemirror_mode": {
    "name": "ipython",
    "version": 3
   },
   "file_extension": ".py",
   "mimetype": "text/x-python",
   "name": "python",
   "nbconvert_exporter": "python",
   "pygments_lexer": "ipython3",
   "version": "3.12.7"
  }
 },
 "nbformat": 4,
 "nbformat_minor": 5
}
