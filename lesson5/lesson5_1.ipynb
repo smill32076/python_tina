{
 "cells": [
  {
   "cell_type": "markdown",
   "id": "7203d2a0",
   "metadata": {},
   "source": [
    "###巢狀判斷\n",
    "- 貓\n",
    "- 熊\n",
    "- 蜥蜴\n",
    "- 人類"
   ]
  },
  {
   "cell_type": "code",
   "execution_count": 1,
   "id": "9d9b24e3",
   "metadata": {},
   "outputs": [
    {
     "name": "stdout",
     "output_type": "stream",
     "text": [
      "熊\n"
     ]
    }
   ],
   "source": [
    "furry:bool=True\n",
    "small:bool=False\n",
    "if furry:\n",
    "    if small:\n",
    "        print(\"貓\")\n",
    "    else:\n",
    "        print(\"熊\")\n",
    "else:\n",
    "    if small:\n",
    "        print(\"小蜥蜴\")\n",
    "    else:\n",
    "        print(\"人類\")"
   ]
  },
  {
   "cell_type": "code",
   "execution_count": 7,
   "id": "c446808d",
   "metadata": {},
   "outputs": [
    {
     "name": "stdout",
     "output_type": "stream",
     "text": [
      "學生等級:不及格\n"
     ]
    }
   ],
   "source": [
    "score:int=int(input(\"請輸入學生分數:\"))\n",
    "if score >= 80:\n",
    "    grade:str = \"優\"\n",
    "else:\n",
    "    #小於80\n",
    "    if score >= 60:\n",
    "        #小於80同時大於等於60\n",
    "        grade:str=\"及格\"\n",
    "    else:\n",
    "        grade:str=\"不及格\"\n",
    "print(f\"學生等級:{grade}\")"
   ]
  },
  {
   "cell_type": "markdown",
   "id": "a4e66b23",
   "metadata": {},
   "source": [
    "### 多項選擇"
   ]
  },
  {
   "cell_type": "code",
   "execution_count": 10,
   "id": "bd2cdc18",
   "metadata": {},
   "outputs": [
    {
     "name": "stdout",
     "output_type": "stream",
     "text": [
      "學生等級:不及格\n"
     ]
    }
   ],
   "source": [
    "score:int=int(input(\"請輸入學生分數:\"))\n",
    "if score >= 80:\n",
    "    grade:str = \"優\"\n",
    "elif score >= 60:\n",
    "    #小於80同時大於等於60\n",
    "    grade:str=\"及格\"\n",
    "else:\n",
    "    grade:str=\"不及格\"\n",
    "print(f\"學生等級:{grade}\")"
   ]
  },
  {
   "cell_type": "markdown",
   "id": "e4ac1478",
   "metadata": {},
   "source": [
    "- 90(含)~100分為「優」\n",
    "- 80(含)~89分為「甲」\n",
    "- 70(含)~79分為「乙」\n",
    "- 60(含)~69分為「丙」\n",
    "- 0(含)~59分為「丁」"
   ]
  },
  {
   "cell_type": "code",
   "execution_count": 15,
   "id": "0bf98079",
   "metadata": {},
   "outputs": [
    {
     "name": "stdout",
     "output_type": "stream",
     "text": [
      "學生等級:丁\n"
     ]
    }
   ],
   "source": [
    "score:int=int(input(\"請輸入學生分數:\"))\n",
    "if score >= 90:\n",
    "    grade:str = \"優\"\n",
    "elif score >= 80:\n",
    "    grade:str=\"甲\"\n",
    "elif score >= 70:\n",
    "    grade:str=\"乙\"\n",
    "elif score >= 60:\n",
    "    grade:str = \"丙\"\n",
    "else:\n",
    "    grade:str=\"丁\"\n",
    "print(f\"學生等級:{grade}\")"
   ]
  },
  {
   "cell_type": "markdown",
   "id": "0c5f2055",
   "metadata": {},
   "source": [
    "### 程式修改作業\n",
    "輸入顧客購買金額，若金額在\n",
    "- 100000元打8折.\n",
    "- 50000打85折.\n",
    "- 30000打9折.\n",
    "- 10000打95折.\n",
    "\n",
    "請輸入購買金額:130000\n",
    "實付金額是: 104000.0 元"
   ]
  },
  {
   "cell_type": "code",
   "execution_count": 1,
   "id": "db7f06be",
   "metadata": {},
   "outputs": [
    {
     "name": "stdout",
     "output_type": "stream",
     "text": [
      "輸入金額:130000\n",
      "實付金額是:123500.0\n"
     ]
    }
   ],
   "source": [
    "money:int=int(input(\"請輸入購買金額\"))\n",
    "if money >= 10000:\n",
    "    pay_money=money*0.95\n",
    "elif money >=30000:\n",
    "    pay_money=money*0.9\n",
    "elif money >=50000:\n",
    "    pay_money=money*0.85\n",
    "elif money >=100000:\n",
    "    pay_money=money*0.8\n",
    "else:\n",
    "    pay_money=money\n",
    "print(f\"輸入金額:{money}\")\n",
    "print(f\"實付金額是:{pay_money}\")"
   ]
  },
  {
   "cell_type": "markdown",
   "id": "9c47a7d3",
   "metadata": {},
   "source": [
    "###巢狀判斷"
   ]
  },
  {
   "cell_type": "code",
   "execution_count": 19,
   "id": "0b82e118",
   "metadata": {},
   "outputs": [
    {
     "name": "stdout",
     "output_type": "stream",
     "text": [
      "獎金:1000\n"
     ]
    }
   ],
   "source": [
    "# 國文100同時數學100,獎金1000\n",
    "# 只有一科100分,獎金500\n",
    "chinese = int(input(\"請輸入國文分數\"))\n",
    "math = int(input(\"請輸入數學分數\"))\n",
    "#巢狀判斷\n",
    "bonus = 0\n",
    "if chinese == 100:\n",
    "    if math == 100:\n",
    "        bonus = 1000\n",
    "    else:\n",
    "        bonus = 500\n",
    "elif math == 100:\n",
    "    bonus = 500\n",
    "\n",
    "print(f\"獎金:{bonus}\")"
   ]
  },
  {
   "cell_type": "markdown",
   "id": "94b70a93",
   "metadata": {},
   "source": [
    "### 邏輯運算子"
   ]
  },
  {
   "cell_type": "code",
   "execution_count": 26,
   "id": "84732fab",
   "metadata": {},
   "outputs": [
    {
     "name": "stdout",
     "output_type": "stream",
     "text": [
      "獎金:500\n"
     ]
    }
   ],
   "source": [
    "# 國文100同時數學100,獎金1000\n",
    "# 只有一科100分,獎金500\n",
    "chinese = int(input(\"請輸入國文分數\"))\n",
    "math = int(input(\"請輸入數學分數\"))\n",
    "#邏輯運算子\n",
    "bonus = 0 #若這個沒寫 就要寫 else\n",
    "if chinese==100 and math==100:\n",
    "    bonus=1000\n",
    "elif chinese == 100 or math ==100:\n",
    "    bonus =500\n",
    "else:\n",
    "    bonus = 0\n",
    "print(f\"獎金:{bonus}\")"
   ]
  },
  {
   "cell_type": "markdown",
   "id": "733c9057",
   "metadata": {},
   "source": [
    "### not使用方法\n",
    "- True區塊和 False區塊，對調"
   ]
  },
  {
   "cell_type": "code",
   "execution_count": 31,
   "id": "febbfdbf",
   "metadata": {},
   "outputs": [
    {
     "name": "stdout",
     "output_type": "stream",
     "text": [
      "可以考駕照\n"
     ]
    }
   ],
   "source": [
    "age = int (input(\"請輸入age:\"))\n",
    "if age<18:\n",
    "    print(\"不可以考駕照\")\n",
    "else:\n",
    "    print(\"可以考駕照\")"
   ]
  },
  {
   "cell_type": "code",
   "execution_count": 34,
   "id": "a3871221",
   "metadata": {},
   "outputs": [
    {
     "name": "stdout",
     "output_type": "stream",
     "text": [
      "可以考駕照\n"
     ]
    }
   ],
   "source": [
    "age = int (input(\"請輸入age:\"))\n",
    "if not age<18:\n",
    "    print(\"可以考駕照\")\n",
    "else:\n",
    "    print(\"不可以考駕照\")"
   ]
  },
  {
   "cell_type": "markdown",
   "id": "7634f04e",
   "metadata": {},
   "source": [
    "### BMI練習題目"
   ]
  },
  {
   "cell_type": "code",
   "execution_count": 13,
   "id": "b317bb61",
   "metadata": {},
   "outputs": [
    {
     "name": "stdout",
     "output_type": "stream",
     "text": [
      "身高160\n",
      "體重52\n",
      "BMI20.3\n",
      "正常\n"
     ]
    }
   ],
   "source": [
    "A:int=int(input(\"請輸入身高\"))\n",
    "B:int=int(input(\"請輸入體重\"))\n",
    "BMI=round(B/((A/100)**2),1)\n",
    "print(f\"身高{A}\")\n",
    "print(f\"體重{B}\")\n",
    "print(f\"BMI{BMI}\")\n",
    "\n",
    "if BMI <18.5:\n",
    "    print(\"體重過輕\")\n",
    "elif  18.5<= BMI <24:\n",
    "    print(\"正常\")\n",
    "elif  24 <= BMI <27:\n",
    "    print(\"過重\")\n",
    "elif  27 <= BMI < 30:\n",
    "    print(\"輕度肥胖\")\n",
    "elif 30 <= BMI <35:\n",
    "    print(\"中度肥胖\")\n",
    "else:\n",
    "    print(\"重度肥胖\")"
   ]
  },
  {
   "cell_type": "code",
   "execution_count": null,
   "id": "1758ab9c",
   "metadata": {},
   "outputs": [],
   "source": []
  }
 ],
 "metadata": {
  "kernelspec": {
   "display_name": "base",
   "language": "python",
   "name": "python3"
  },
  "language_info": {
   "codemirror_mode": {
    "name": "ipython",
    "version": 3
   },
   "file_extension": ".py",
   "mimetype": "text/x-python",
   "name": "python",
   "nbconvert_exporter": "python",
   "pygments_lexer": "ipython3",
   "version": "3.12.7"
  }
 },
 "nbformat": 4,
 "nbformat_minor": 5
}
