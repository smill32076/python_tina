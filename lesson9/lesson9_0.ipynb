{
 "cells": [
  {
   "cell_type": "markdown",
   "id": "c8d21dd6",
   "metadata": {},
   "source": [
    "### python內建function\n",
    "- 請說明filter()\n",
    "- 請提供小範例\n",
    "- 請使用繁體中文回答"
   ]
  },
  {
   "cell_type": "code",
   "execution_count": 1,
   "id": "e374b405",
   "metadata": {},
   "outputs": [
    {
     "name": "stdout",
     "output_type": "stream",
     "text": [
      "[1, 3, 5, 7, 9]\n"
     ]
    }
   ],
   "source": [
    "numbers = [1, 2, 3, 4, 5, 6, 7, 8, 9, 10]\n",
    "\n",
    "# def is_odd(num):\n",
    "#     return num % 2 != 0\n",
    "\n",
    "result = filter(lambda num: num%2 != 0, numbers)\n",
    "print(list(result))  # 輸出: [1, 3, 5, 7, 9]"
   ]
  }
 ],
 "metadata": {
  "kernelspec": {
   "display_name": "base",
   "language": "python",
   "name": "python3"
  },
  "language_info": {
   "codemirror_mode": {
    "name": "ipython",
    "version": 3
   },
   "file_extension": ".py",
   "mimetype": "text/x-python",
   "name": "python",
   "nbconvert_exporter": "python",
   "pygments_lexer": "ipython3",
   "version": "3.12.7"
  }
 },
 "nbformat": 4,
 "nbformat_minor": 5
}
