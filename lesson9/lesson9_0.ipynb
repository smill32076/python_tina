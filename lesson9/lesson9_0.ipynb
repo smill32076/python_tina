{
 "cells": [
  {
   "cell_type": "markdown",
   "id": "c8d21dd6",
   "metadata": {},
   "source": [
    "### python內建function\n",
    "- 請說明filter()\n",
    "- 請提供小範例\n",
    "- 請使用繁體中文回答"
   ]
  },
  {
   "cell_type": "code",
   "execution_count": null,
   "id": "e374b405",
   "metadata": {},
   "outputs": [],
   "source": []
  }
 ],
 "metadata": {
  "kernelspec": {
   "display_name": "base",
   "language": "python",
   "name": "python3"
  },
  "language_info": {
   "name": "python",
   "version": "3.12.7"
  }
 },
 "nbformat": 4,
 "nbformat_minor": 5
}
