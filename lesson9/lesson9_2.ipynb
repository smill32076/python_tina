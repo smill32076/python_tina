{
 "cells": [
  {
   "cell_type": "code",
   "execution_count": 3,
   "id": "e634b820",
   "metadata": {},
   "outputs": [],
   "source": [
    "from dataclasses import dataclass\n",
    "\n",
    "@dataclass\n",
    "class Student:\n",
    "    pass"
   ]
  },
  {
   "cell_type": "code",
   "execution_count": 4,
   "id": "a72a9155",
   "metadata": {},
   "outputs": [
    {
     "data": {
      "text/plain": [
       "__main__.Student"
      ]
     },
     "execution_count": 4,
     "metadata": {},
     "output_type": "execute_result"
    }
   ],
   "source": [
    "stu1:Student = Student()\n",
    "type(stu1)"
   ]
  },
  {
   "cell_type": "code",
   "execution_count": 1,
   "id": "b2111491",
   "metadata": {},
   "outputs": [],
   "source": [
    "from dataclasses import dataclass\n",
    "\n",
    "@dataclass\n",
    "class Student:\n",
    "    name:str\n",
    "    chinese:int\n",
    "    english:int\n",
    "    math:int\n",
    "\n",
    "    @property\n",
    "    def sum(self): # def 一定要加self\n",
    "        return self.chinese + self.english + self.math\n",
    "\n",
    "    def average(self): #實體方法 \n",
    "        return round(self.sum / 3.0,ndigits=2)"
   ]
  },
  {
   "cell_type": "code",
   "execution_count": 2,
   "id": "64e24577",
   "metadata": {},
   "outputs": [],
   "source": [
    "stu1:Student = Student(name=\"robert\",\n",
    "                       chinese=98,\n",
    "                       english=75,\n",
    "                       math=69)\n",
    "\n",
    "stu2:Student = Student(name=\"jenny\",\n",
    "                       chinese=87,\n",
    "                       english=92,\n",
    "                       math=75)\n"
   ]
  },
  {
   "cell_type": "code",
   "execution_count": 11,
   "id": "ffaee810",
   "metadata": {},
   "outputs": [
    {
     "data": {
      "text/plain": [
       "('robert', 100, 75, 69)"
      ]
     },
     "execution_count": 11,
     "metadata": {},
     "output_type": "execute_result"
    }
   ],
   "source": [
    "stu1.name,stu1.chinese,stu1.english,stu1.math #tuple"
   ]
  },
  {
   "cell_type": "code",
   "execution_count": 12,
   "id": "3e124d47",
   "metadata": {},
   "outputs": [
    {
     "name": "stdout",
     "output_type": "stream",
     "text": [
      "('robert', 100, 75, 69)\n",
      "244\n",
      "81.33\n"
     ]
    }
   ],
   "source": [
    "stu1.chinese = 100\n",
    "#stu1.sum = 300 一般的property只可以讀,不可以寫入(readonly)\n",
    "print((stu1.name, stu1.chinese, stu1.english, stu1.math)) \n",
    "print(stu1.sum) #呼叫property\n",
    "print(stu1.average()) #呼叫實體方法"
   ]
  },
  {
   "cell_type": "code",
   "execution_count": 13,
   "id": "e4c24d45",
   "metadata": {},
   "outputs": [
    {
     "data": {
      "text/plain": [
       "('jenny', 87, 92, 75)"
      ]
     },
     "execution_count": 13,
     "metadata": {},
     "output_type": "execute_result"
    }
   ],
   "source": [
    "stu2.name,stu2.chinese,stu2.english,stu2.math"
   ]
  },
  {
   "cell_type": "code",
   "execution_count": 14,
   "id": "fdb0a4da",
   "metadata": {},
   "outputs": [
    {
     "name": "stdout",
     "output_type": "stream",
     "text": [
      "('jenny', 87, 92, 75)\n",
      "254\n",
      "84.67\n"
     ]
    }
   ],
   "source": [
    "print((stu2.name, stu2.chinese, stu2.english, stu2.math))\n",
    "print(stu2.sum)\n",
    "print(stu2.average())"
   ]
  }
 ],
 "metadata": {
  "kernelspec": {
   "display_name": "base",
   "language": "python",
   "name": "python3"
  },
  "language_info": {
   "codemirror_mode": {
    "name": "ipython",
    "version": 3
   },
   "file_extension": ".py",
   "mimetype": "text/x-python",
   "name": "python",
   "nbconvert_exporter": "python",
   "pygments_lexer": "ipython3",
   "version": "3.12.7"
  }
 },
 "nbformat": 4,
 "nbformat_minor": 5
}
