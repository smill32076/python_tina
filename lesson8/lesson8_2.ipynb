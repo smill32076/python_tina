{
 "cells": [
  {
   "cell_type": "markdown",
   "id": "e93ff87f",
   "metadata": {},
   "source": [
    "### python的資料結構"
   ]
  },
  {
   "cell_type": "code",
   "execution_count": 1,
   "id": "d6030abb",
   "metadata": {},
   "outputs": [],
   "source": [
    "name:str=\"徐國堂\"\n",
    "chinese:int=96\n",
    "english:int=85\n",
    "math:int=95"
   ]
  },
  {
   "cell_type": "markdown",
   "id": "626d72ff",
   "metadata": {},
   "source": [
    "### 一組有關係的資料(dictionary)"
   ]
  },
  {
   "cell_type": "code",
   "execution_count": 3,
   "id": "6bf74947",
   "metadata": {},
   "outputs": [],
   "source": [
    "student:dict = {\"name\":\"徐國堂\",\"chinese\":96,\"english\":85,\"math\":95}"
   ]
  },
  {
   "cell_type": "code",
   "execution_count": null,
   "id": "75b0d407",
   "metadata": {},
   "outputs": [
    {
     "data": {
      "text/plain": [
       "96"
      ]
     },
     "execution_count": 6,
     "metadata": {},
     "output_type": "execute_result"
    }
   ],
   "source": [
    "#取出值\n",
    "student[\"name\"]\n",
    "student[\"chinese\"]"
   ]
  },
  {
   "cell_type": "code",
   "execution_count": 7,
   "id": "5b0f0240",
   "metadata": {},
   "outputs": [
    {
     "data": {
      "text/plain": [
       "90"
      ]
     },
     "execution_count": 7,
     "metadata": {},
     "output_type": "execute_result"
    }
   ],
   "source": [
    "#改變值\n",
    "student[\"chinese\"]=90\n",
    "student[\"chinese\"]"
   ]
  },
  {
   "cell_type": "code",
   "execution_count": 8,
   "id": "f4811721",
   "metadata": {},
   "outputs": [
    {
     "data": {
      "text/plain": [
       "{'name': '徐國堂', 'chinese': 90, 'english': 85, 'math': 95, 'history': 84}"
      ]
     },
     "execution_count": 8,
     "metadata": {},
     "output_type": "execute_result"
    }
   ],
   "source": [
    "#新增key\n",
    "student[\"history\"] = 84\n",
    "student"
   ]
  }
 ],
 "metadata": {
  "kernelspec": {
   "display_name": "base",
   "language": "python",
   "name": "python3"
  },
  "language_info": {
   "codemirror_mode": {
    "name": "ipython",
    "version": 3
   },
   "file_extension": ".py",
   "mimetype": "text/x-python",
   "name": "python",
   "nbconvert_exporter": "python",
   "pygments_lexer": "ipython3",
   "version": "3.12.7"
  }
 },
 "nbformat": 4,
 "nbformat_minor": 5
}
