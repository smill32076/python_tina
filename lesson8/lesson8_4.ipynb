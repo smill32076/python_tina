{
 "cells": [
  {
   "cell_type": "markdown",
   "id": "181664a5",
   "metadata": {},
   "source": [
    "### function 的參數，可以要求是一個 function\n",
    "### fliter(function,numbers)"
   ]
  },
  {
   "cell_type": "code",
   "execution_count": 6,
   "id": "af691dbe",
   "metadata": {},
   "outputs": [
    {
     "data": {
      "text/plain": [
       "[1, 3, 5, 7, 9]"
      ]
     },
     "execution_count": 6,
     "metadata": {},
     "output_type": "execute_result"
    }
   ],
   "source": [
    "numbers:list[int] = [1,2,3,4,5,6,7,8,9,10]\n",
    "\n",
    "def is_odd(n):\n",
    "    if n%2==1:\n",
    "        return True\n",
    "    else:\n",
    "        return False\n",
    "#取出奇數值\n",
    "list(filter(is_odd,numbers))"
   ]
  }
 ],
 "metadata": {
  "kernelspec": {
   "display_name": "base",
   "language": "python",
   "name": "python3"
  },
  "language_info": {
   "codemirror_mode": {
    "name": "ipython",
    "version": 3
   },
   "file_extension": ".py",
   "mimetype": "text/x-python",
   "name": "python",
   "nbconvert_exporter": "python",
   "pygments_lexer": "ipython3",
   "version": "3.12.7"
  }
 },
 "nbformat": 4,
 "nbformat_minor": 5
}
