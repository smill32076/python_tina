{
 "cells": [
  {
   "cell_type": "markdown",
   "id": "181664a5",
   "metadata": {},
   "source": [
    "### function 的參數，可以要求是一個 function\n",
    "### fliter(function,numbers)"
   ]
  },
  {
   "cell_type": "code",
   "execution_count": 6,
   "id": "af691dbe",
   "metadata": {},
   "outputs": [
    {
     "data": {
      "text/plain": [
       "[1, 3, 5, 7, 9]"
      ]
     },
     "execution_count": 6,
     "metadata": {},
     "output_type": "execute_result"
    }
   ],
   "source": [
    "numbers:list[int] = [1,2,3,4,5,6,7,8,9,10]\n",
    "\n",
    "def is_odd(n):\n",
    "    if n%2==1:\n",
    "        return True\n",
    "    else:\n",
    "        return False\n",
    "#取出奇數值\n",
    "list(filter(is_odd,numbers))"
   ]
  },
  {
   "cell_type": "code",
   "execution_count": 1,
   "id": "45b28de1",
   "metadata": {},
   "outputs": [
    {
     "data": {
      "text/plain": [
       "[1, 3, 5, 7, 9]"
      ]
     },
     "execution_count": 1,
     "metadata": {},
     "output_type": "execute_result"
    }
   ],
   "source": [
    "numbers:list[int] = [1,2,3,4,5,6,7,8,9,10]\n",
    "\n",
    "def is_odd(n):\n",
    "    return n % 2 == 1\n",
    "   \n",
    "#取出奇數值\n",
    "list(filter(is_odd,numbers))"
   ]
  },
  {
   "cell_type": "markdown",
   "id": "b2690046",
   "metadata": {},
   "source": [
    "### lambda 匿名function\n",
    "### 限制條件\n",
    "- 只可以一行\n",
    "- 會自動 return"
   ]
  },
  {
   "cell_type": "code",
   "execution_count": 2,
   "id": "2f09266c",
   "metadata": {},
   "outputs": [
    {
     "data": {
      "text/plain": [
       "[1, 3, 5, 7, 9]"
      ]
     },
     "execution_count": 2,
     "metadata": {},
     "output_type": "execute_result"
    }
   ],
   "source": [
    "numbers:list[int] = [1,2,3,4,5,6,7,8,9,10]\n",
    "\n",
    "\n",
    "#取出奇數值\n",
    "list(filter(lambda n:n%2==1,numbers))"
   ]
  }
 ],
 "metadata": {
  "kernelspec": {
   "display_name": "base",
   "language": "python",
   "name": "python3"
  },
  "language_info": {
   "codemirror_mode": {
    "name": "ipython",
    "version": 3
   },
   "file_extension": ".py",
   "mimetype": "text/x-python",
   "name": "python",
   "nbconvert_exporter": "python",
   "pygments_lexer": "ipython3",
   "version": "3.12.7"
  }
 },
 "nbformat": 4,
 "nbformat_minor": 5
}
