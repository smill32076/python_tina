{
 "cells": [
  {
   "cell_type": "markdown",
   "id": "f9acdc5a",
   "metadata": {},
   "source": [
    "### 如何呼叫function"
   ]
  },
  {
   "cell_type": "code",
   "execution_count": 1,
   "id": "53a26ef7",
   "metadata": {},
   "outputs": [],
   "source": [
    "def menu(wine:str,entree:str,dessert:str):\n",
    "    print(f\"前菜:{wine}\")\n",
    "    print(f\"主菜:{entree}\")\n",
    "    print(f\"甜點:{dessert}\")"
   ]
  },
  {
   "cell_type": "markdown",
   "id": "bd871913",
   "metadata": {},
   "source": [
    "### 引述值得呼叫(依照參數的順序)"
   ]
  },
  {
   "cell_type": "code",
   "execution_count": null,
   "id": "25b7fe51",
   "metadata": {},
   "outputs": [
    {
     "name": "stdout",
     "output_type": "stream",
     "text": [
      "前菜:白酒\n",
      "主菜:雞排\n",
      "甜點:蛋糕\n"
     ]
    }
   ],
   "source": [
    "menu(\"白酒\",\"雞排\",\"蛋糕\")"
   ]
  },
  {
   "cell_type": "markdown",
   "id": "047fa11b",
   "metadata": {},
   "source": [
    "### 引述名稱的呼叫(可以不依照順序)"
   ]
  },
  {
   "cell_type": "code",
   "execution_count": 5,
   "id": "6ed7416d",
   "metadata": {},
   "outputs": [
    {
     "name": "stdout",
     "output_type": "stream",
     "text": [
      "前菜:白酒\n",
      "主菜:雞排\n",
      "甜點:蛋糕\n",
      "\n",
      "前菜:白酒\n",
      "主菜:雞排\n",
      "甜點:蛋糕\n"
     ]
    }
   ],
   "source": [
    "menu(wine=\"白酒\",entree=\"雞排\",dessert=\"蛋糕\")\n",
    "print()\n",
    "menu(wine=\"白酒\",dessert=\"蛋糕\",entree=\"雞排\")"
   ]
  },
  {
   "cell_type": "markdown",
   "id": "cf97fe01",
   "metadata": {},
   "source": [
    "### 混和呼叫\n",
    "- 前面要引數值的呼叫\n",
    "- 後面要引數名稱的呼叫\n",
    "- 引數名稱呼叫後，就全部要使用引數名稱"
   ]
  },
  {
   "cell_type": "code",
   "execution_count": 4,
   "id": "0c35892b",
   "metadata": {},
   "outputs": [
    {
     "name": "stdout",
     "output_type": "stream",
     "text": [
      "前菜:白酒\n",
      "主菜:雞排\n",
      "甜點:蛋糕\n",
      "\n",
      "前菜:白酒\n",
      "主菜:雞排\n",
      "甜點:蛋糕\n"
     ]
    }
   ],
   "source": [
    "menu(\"白酒\",entree=\"雞排\",dessert=\"蛋糕\")\n",
    "print()\n",
    "menu(\"白酒\",dessert=\"蛋糕\",entree=\"雞排\")"
   ]
  },
  {
   "cell_type": "markdown",
   "id": "586d1e9b",
   "metadata": {},
   "source": [
    "### 參數有預設值\n",
    "- 有預設值的參數，一定要放在最後面\n",
    "- 呼叫的方式變多了"
   ]
  },
  {
   "cell_type": "code",
   "execution_count": 3,
   "id": "d3941039",
   "metadata": {},
   "outputs": [],
   "source": [
    "def menu(wine:str,entree:str,dessert:str=\"奶昔\"):\n",
    "    print(f\"前菜:{wine}\")\n",
    "    print(f\"主菜:{entree}\")\n",
    "    print(f\"甜點:{dessert}\")"
   ]
  },
  {
   "cell_type": "code",
   "execution_count": 7,
   "id": "e50ef604",
   "metadata": {},
   "outputs": [
    {
     "name": "stdout",
     "output_type": "stream",
     "text": [
      "前菜:白酒\n",
      "主菜:雞排\n",
      "甜點:奶昔\n"
     ]
    }
   ],
   "source": [
    "menu(\"白酒\",entree=\"雞排\")"
   ]
  },
  {
   "cell_type": "code",
   "execution_count": 8,
   "id": "075dc55b",
   "metadata": {},
   "outputs": [
    {
     "name": "stdout",
     "output_type": "stream",
     "text": [
      "前菜:白酒\n",
      "主菜:雞排\n",
      "甜點:蛋糕\n"
     ]
    }
   ],
   "source": [
    "menu('白酒',dessert='蛋糕',entree='雞排')"
   ]
  },
  {
   "cell_type": "code",
   "execution_count": 10,
   "id": "3a610ca7",
   "metadata": {},
   "outputs": [
    {
     "name": "stdout",
     "output_type": "stream",
     "text": [
      "(1, 2, 3, 'a', 'b', 'c')\n"
     ]
    }
   ],
   "source": [
    "def print_args(*args):\n",
    "    print(args)\n",
    "\n",
    "print_args(1,2,3,\"a\",\"b\",\"c\")\n",
    "\n",
    "# 沒有限定的引述,print_args裡的123abc叫做tuple"
   ]
  },
  {
   "cell_type": "code",
   "execution_count": 12,
   "id": "0b52bcb8",
   "metadata": {},
   "outputs": [
    {
     "name": "stdout",
     "output_type": "stream",
     "text": [
      "{'one': 1, 'two': 2, 'three': 3, 'four': 4}\n"
     ]
    }
   ],
   "source": [
    "def print_kwargs(**kwargs):\n",
    "    print(kwargs)\n",
    "\n",
    "print_kwargs(one=1,two=2,three=3,four=4)"
   ]
  },
  {
   "cell_type": "code",
   "execution_count": 13,
   "id": "e2187af2",
   "metadata": {},
   "outputs": [
    {
     "name": "stdout",
     "output_type": "stream",
     "text": [
      "(1, 2, 3, 'a', 'b', 'c')\n",
      "{'one': 1, 'two': 2, 'three': 3, 'four': 4}\n"
     ]
    }
   ],
   "source": [
    "def print_all(*args,**kwargs):\n",
    "    print(args)\n",
    "    print(kwargs)\n",
    "\n",
    "print_all(1,2,3,\"a\",\"b\",\"c\",one=1,two=2,three=3,four=4)"
   ]
  },
  {
   "cell_type": "code",
   "execution_count": 15,
   "id": "5febeede",
   "metadata": {},
   "outputs": [
    {
     "name": "stdout",
     "output_type": "stream",
     "text": [
      "1 2 3 4 5\n",
      "\n",
      "1-2-3-4-5\n",
      "1-2-3-4-5,\n"
     ]
    }
   ],
   "source": [
    "print(1,2,3,4,5)\n",
    "print()\n",
    "print(1,2,3,4,5,sep=\"-\")\n",
    "print(1,2,3,4,5,end=\",\\n\",sep=\"-\")"
   ]
  },
  {
   "cell_type": "code",
   "execution_count": 17,
   "id": "8f893248",
   "metadata": {},
   "outputs": [
    {
     "data": {
      "text/plain": [
       "1"
      ]
     },
     "execution_count": 17,
     "metadata": {},
     "output_type": "execute_result"
    }
   ],
   "source": [
    "min((1, 2, 3, 4, 5))\n",
    "min(1,2,3,4,5)"
   ]
  }
 ],
 "metadata": {
  "kernelspec": {
   "display_name": "base",
   "language": "python",
   "name": "python3"
  },
  "language_info": {
   "codemirror_mode": {
    "name": "ipython",
    "version": 3
   },
   "file_extension": ".py",
   "mimetype": "text/x-python",
   "name": "python",
   "nbconvert_exporter": "python",
   "pygments_lexer": "ipython3",
   "version": "3.12.7"
  }
 },
 "nbformat": 4,
 "nbformat_minor": 5
}
